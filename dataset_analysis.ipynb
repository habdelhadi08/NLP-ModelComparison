{
 "cells": [
  {
   "cell_type": "code",
   "execution_count": null,
   "id": "5ff10cf2",
   "metadata": {},
   "outputs": [],
   "source": [
    "import pandas as pd\n",
    "import json\n",
    "import re\n",
    "from collections import Counter\n",
    "import spacy\n",
    "from wordcloud import WordCloud\n",
    "import matplotlib.pyplot as plt\n",
    "import plotly.express as px\n",
    "import os"
   ]
  },
  {
   "cell_type": "code",
   "execution_count": 4,
   "id": "828cacc3",
   "metadata": {},
   "outputs": [
    {
     "data": {
      "text/html": [
       "<div>\n",
       "<style scoped>\n",
       "    .dataframe tbody tr th:only-of-type {\n",
       "        vertical-align: middle;\n",
       "    }\n",
       "\n",
       "    .dataframe tbody tr th {\n",
       "        vertical-align: top;\n",
       "    }\n",
       "\n",
       "    .dataframe thead th {\n",
       "        text-align: right;\n",
       "    }\n",
       "</style>\n",
       "<table border=\"1\" class=\"dataframe\">\n",
       "  <thead>\n",
       "    <tr style=\"text-align: right;\">\n",
       "      <th></th>\n",
       "      <th>Id</th>\n",
       "      <th>pub_title</th>\n",
       "      <th>dataset_title</th>\n",
       "      <th>dataset_label</th>\n",
       "      <th>cleaned_label</th>\n",
       "    </tr>\n",
       "  </thead>\n",
       "  <tbody>\n",
       "    <tr>\n",
       "      <th>0</th>\n",
       "      <td>d0fa7568-7d8e-4db9-870f-f9c6f668c17b</td>\n",
       "      <td>The Impact of Dual Enrollment on College Degre...</td>\n",
       "      <td>National Education Longitudinal Study</td>\n",
       "      <td>National Education Longitudinal Study</td>\n",
       "      <td>national education longitudinal study</td>\n",
       "    </tr>\n",
       "    <tr>\n",
       "      <th>1</th>\n",
       "      <td>2f26f645-3dec-485d-b68d-f013c9e05e60</td>\n",
       "      <td>Educational Attainment of High School Dropouts...</td>\n",
       "      <td>National Education Longitudinal Study</td>\n",
       "      <td>National Education Longitudinal Study</td>\n",
       "      <td>national education longitudinal study</td>\n",
       "    </tr>\n",
       "    <tr>\n",
       "      <th>2</th>\n",
       "      <td>c5d5cd2c-59de-4f29-bbb1-6a88c7b52f29</td>\n",
       "      <td>Differences in Outcomes for Female and Male St...</td>\n",
       "      <td>National Education Longitudinal Study</td>\n",
       "      <td>National Education Longitudinal Study</td>\n",
       "      <td>national education longitudinal study</td>\n",
       "    </tr>\n",
       "    <tr>\n",
       "      <th>3</th>\n",
       "      <td>5c9a3bc9-41ba-4574-ad71-e25c1442c8af</td>\n",
       "      <td>Stepping Stone and Option Value in a Model of ...</td>\n",
       "      <td>National Education Longitudinal Study</td>\n",
       "      <td>National Education Longitudinal Study</td>\n",
       "      <td>national education longitudinal study</td>\n",
       "    </tr>\n",
       "    <tr>\n",
       "      <th>4</th>\n",
       "      <td>c754dec7-c5a3-4337-9892-c02158475064</td>\n",
       "      <td>Parental Effort, School Resources, and Student...</td>\n",
       "      <td>National Education Longitudinal Study</td>\n",
       "      <td>National Education Longitudinal Study</td>\n",
       "      <td>national education longitudinal study</td>\n",
       "    </tr>\n",
       "  </tbody>\n",
       "</table>\n",
       "</div>"
      ],
      "text/plain": [
       "                                     Id  \\\n",
       "0  d0fa7568-7d8e-4db9-870f-f9c6f668c17b   \n",
       "1  2f26f645-3dec-485d-b68d-f013c9e05e60   \n",
       "2  c5d5cd2c-59de-4f29-bbb1-6a88c7b52f29   \n",
       "3  5c9a3bc9-41ba-4574-ad71-e25c1442c8af   \n",
       "4  c754dec7-c5a3-4337-9892-c02158475064   \n",
       "\n",
       "                                           pub_title  \\\n",
       "0  The Impact of Dual Enrollment on College Degre...   \n",
       "1  Educational Attainment of High School Dropouts...   \n",
       "2  Differences in Outcomes for Female and Male St...   \n",
       "3  Stepping Stone and Option Value in a Model of ...   \n",
       "4  Parental Effort, School Resources, and Student...   \n",
       "\n",
       "                           dataset_title  \\\n",
       "0  National Education Longitudinal Study   \n",
       "1  National Education Longitudinal Study   \n",
       "2  National Education Longitudinal Study   \n",
       "3  National Education Longitudinal Study   \n",
       "4  National Education Longitudinal Study   \n",
       "\n",
       "                           dataset_label  \\\n",
       "0  National Education Longitudinal Study   \n",
       "1  National Education Longitudinal Study   \n",
       "2  National Education Longitudinal Study   \n",
       "3  National Education Longitudinal Study   \n",
       "4  National Education Longitudinal Study   \n",
       "\n",
       "                           cleaned_label  \n",
       "0  national education longitudinal study  \n",
       "1  national education longitudinal study  \n",
       "2  national education longitudinal study  \n",
       "3  national education longitudinal study  \n",
       "4  national education longitudinal study  "
      ]
     },
     "execution_count": 4,
     "metadata": {},
     "output_type": "execute_result"
    }
   ],
   "source": [
    "df=pd.read_csv('datasets/train.csv')\n",
    "df.head()"
   ]
  },
  {
   "cell_type": "code",
   "execution_count": null,
   "id": "4c09f1ea",
   "metadata": {},
   "outputs": [
    {
     "data": {
      "text/plain": [
       "{'Number of Rows': 19661,\n",
       " 'Number of Columns': 5,\n",
       " 'Column Names': ['Id',\n",
       "  'pub_title',\n",
       "  'dataset_title',\n",
       "  'dataset_label',\n",
       "  'cleaned_label'],\n",
       " 'Data Types': {'Id': dtype('O'),\n",
       "  'pub_title': dtype('O'),\n",
       "  'dataset_title': dtype('O'),\n",
       "  'dataset_label': dtype('O'),\n",
       "  'cleaned_label': dtype('O')}}"
      ]
     },
     "execution_count": 7,
     "metadata": {},
     "output_type": "execute_result"
    }
   ],
   "source": [
    "def analyse_dataset(df):\n",
    "    num_rows, num_cols = df.shape\n",
    "    column_names = df.columns.tolist()\n",
    "    data_types = df.dtypes.to_dict()\n",
    "    \n",
    "    summary = {\n",
    "        'Number of Rows': num_rows,\n",
    "        'Number of Columns': num_cols,\n",
    "        'Column Names': column_names,\n",
    "        'Data Types': data_types\n",
    "    }\n",
    "    \n",
    "    return summary\n",
    "analyse_dataset(df)"
   ]
  },
  {
   "cell_type": "code",
   "execution_count": 11,
   "id": "f3edebe9",
   "metadata": {},
   "outputs": [
    {
     "data": {
      "text/html": [
       "<div>\n",
       "<style scoped>\n",
       "    .dataframe tbody tr th:only-of-type {\n",
       "        vertical-align: middle;\n",
       "    }\n",
       "\n",
       "    .dataframe tbody tr th {\n",
       "        vertical-align: top;\n",
       "    }\n",
       "\n",
       "    .dataframe thead th {\n",
       "        text-align: right;\n",
       "    }\n",
       "</style>\n",
       "<table border=\"1\" class=\"dataframe\">\n",
       "  <thead>\n",
       "    <tr style=\"text-align: right;\">\n",
       "      <th></th>\n",
       "      <th>Id</th>\n",
       "      <th>pub_title</th>\n",
       "      <th>dataset_title</th>\n",
       "      <th>dataset_label</th>\n",
       "      <th>cleaned_label</th>\n",
       "    </tr>\n",
       "  </thead>\n",
       "  <tbody>\n",
       "    <tr>\n",
       "      <th>0</th>\n",
       "      <td>d0fa7568-7d8e-4db9-870f-f9c6f668c17b</td>\n",
       "      <td>The Impact of Dual Enrollment on College Degre...</td>\n",
       "      <td>National Education Longitudinal Study</td>\n",
       "      <td>National Education Longitudinal Study</td>\n",
       "      <td>national education longitudinal study</td>\n",
       "    </tr>\n",
       "    <tr>\n",
       "      <th>1</th>\n",
       "      <td>2f26f645-3dec-485d-b68d-f013c9e05e60</td>\n",
       "      <td>Educational Attainment of High School Dropouts...</td>\n",
       "      <td>National Education Longitudinal Study</td>\n",
       "      <td>National Education Longitudinal Study</td>\n",
       "      <td>national education longitudinal study</td>\n",
       "    </tr>\n",
       "    <tr>\n",
       "      <th>2</th>\n",
       "      <td>c5d5cd2c-59de-4f29-bbb1-6a88c7b52f29</td>\n",
       "      <td>Differences in Outcomes for Female and Male St...</td>\n",
       "      <td>National Education Longitudinal Study</td>\n",
       "      <td>National Education Longitudinal Study</td>\n",
       "      <td>national education longitudinal study</td>\n",
       "    </tr>\n",
       "    <tr>\n",
       "      <th>3</th>\n",
       "      <td>5c9a3bc9-41ba-4574-ad71-e25c1442c8af</td>\n",
       "      <td>Stepping Stone and Option Value in a Model of ...</td>\n",
       "      <td>National Education Longitudinal Study</td>\n",
       "      <td>National Education Longitudinal Study</td>\n",
       "      <td>national education longitudinal study</td>\n",
       "    </tr>\n",
       "    <tr>\n",
       "      <th>4</th>\n",
       "      <td>c754dec7-c5a3-4337-9892-c02158475064</td>\n",
       "      <td>Parental Effort, School Resources, and Student...</td>\n",
       "      <td>National Education Longitudinal Study</td>\n",
       "      <td>National Education Longitudinal Study</td>\n",
       "      <td>national education longitudinal study</td>\n",
       "    </tr>\n",
       "  </tbody>\n",
       "</table>\n",
       "</div>"
      ],
      "text/plain": [
       "                                     Id  \\\n",
       "0  d0fa7568-7d8e-4db9-870f-f9c6f668c17b   \n",
       "1  2f26f645-3dec-485d-b68d-f013c9e05e60   \n",
       "2  c5d5cd2c-59de-4f29-bbb1-6a88c7b52f29   \n",
       "3  5c9a3bc9-41ba-4574-ad71-e25c1442c8af   \n",
       "4  c754dec7-c5a3-4337-9892-c02158475064   \n",
       "\n",
       "                                           pub_title  \\\n",
       "0  The Impact of Dual Enrollment on College Degre...   \n",
       "1  Educational Attainment of High School Dropouts...   \n",
       "2  Differences in Outcomes for Female and Male St...   \n",
       "3  Stepping Stone and Option Value in a Model of ...   \n",
       "4  Parental Effort, School Resources, and Student...   \n",
       "\n",
       "                           dataset_title  \\\n",
       "0  National Education Longitudinal Study   \n",
       "1  National Education Longitudinal Study   \n",
       "2  National Education Longitudinal Study   \n",
       "3  National Education Longitudinal Study   \n",
       "4  National Education Longitudinal Study   \n",
       "\n",
       "                           dataset_label  \\\n",
       "0  National Education Longitudinal Study   \n",
       "1  National Education Longitudinal Study   \n",
       "2  National Education Longitudinal Study   \n",
       "3  National Education Longitudinal Study   \n",
       "4  National Education Longitudinal Study   \n",
       "\n",
       "                           cleaned_label  \n",
       "0  national education longitudinal study  \n",
       "1  national education longitudinal study  \n",
       "2  national education longitudinal study  \n",
       "3  national education longitudinal study  \n",
       "4  national education longitudinal study  "
      ]
     },
     "execution_count": 11,
     "metadata": {},
     "output_type": "execute_result"
    }
   ],
   "source": [
    "def clean_dataset(df):\n",
    "    df = df.drop_duplicates()\n",
    "    for col in df.select_dtypes(include=['float64', 'int64']):\n",
    "        df[col] = df[col].fillna(df[col].median())\n",
    "    return df\n",
    "\n",
    "cleaned_dataset = clean_dataset(df)\n",
    "cleaned_dataset.to_csv('datasets/cleaned_train.csv', index=False)\n",
    "cleaned_dataset.head()"
   ]
  },
  {
   "cell_type": "code",
   "execution_count": 12,
   "id": "903297da",
   "metadata": {},
   "outputs": [
    {
     "name": "stdout",
     "output_type": "stream",
     "text": [
      "=== Dataset Description ===\n",
      "                                          Id  \\\n",
      "count                                  19661   \n",
      "unique                                 14316   \n",
      "top     170113f9-399c-489e-ab53-2faf5c64c5bc   \n",
      "freq                                      22   \n",
      "\n",
      "                                      pub_title  \\\n",
      "count                                     19661   \n",
      "unique                                    14271   \n",
      "top     Science and Engineering Indicators 2014   \n",
      "freq                                         22   \n",
      "\n",
      "                                            dataset_title dataset_label  \\\n",
      "count                                               19661         19661   \n",
      "unique                                                 45           130   \n",
      "top     Alzheimer's Disease Neuroimaging Initiative (A...          ADNI   \n",
      "freq                                                 6144          3673   \n",
      "\n",
      "       cleaned_label  \n",
      "count          19661  \n",
      "unique           130  \n",
      "top             adni  \n",
      "freq            3673  \n",
      "\n",
      "=== Dataset Label Counts ===\n",
      "dataset_label\n",
      "ADNI                                                                    3673\n",
      "Alzheimer's Disease Neuroimaging Initiative (ADNI)                      2400\n",
      "Trends in International Mathematics and Science Study                   1163\n",
      "Baltimore Longitudinal Study of Aging                                   1156\n",
      "Early Childhood Longitudinal Study                                      1011\n",
      "                                                                        ... \n",
      "National Oceanic and Atmospheric Administration C-CAP                      1\n",
      "National Oceanic and Atmospheric Administration World Ocean Database       1\n",
      "NOAA International Best Track Archive for Climate Stewardship              1\n",
      "Aging Integrated Database (AGID)                                           1\n",
      "CAS COVID-19 antiviral candidate compounds data                            1\n",
      "Name: count, Length: 130, dtype: int64\n"
     ]
    }
   ],
   "source": [
    "print(\"=== Dataset Description ===\")\n",
    "print(cleaned_dataset.describe(include='all'))\n",
    "\n",
    "# Count the frequency of each dataset_label\n",
    "print(\"\\n=== Dataset Label Counts ===\")\n",
    "print(cleaned_dataset['dataset_label'].value_counts())"
   ]
  },
  {
   "cell_type": "code",
   "execution_count": 26,
   "id": "a08d4f56",
   "metadata": {},
   "outputs": [
    {
     "name": "stdout",
     "output_type": "stream",
     "text": [
      "Average number of datasets mentioned per paper: 1.3733584800223526\n"
     ]
    }
   ],
   "source": [
    "dataset_count_per_paper = cleaned_dataset.groupby(\"Id\")[\"dataset_label\"].nunique()\n",
    "print(\"Average number of datasets mentioned per paper:\", dataset_count_per_paper.mean())\n"
   ]
  },
  {
   "cell_type": "code",
   "execution_count": null,
   "id": "b300c75f",
   "metadata": {},
   "outputs": [
    {
     "name": "stdout",
     "output_type": "stream",
     "text": [
      "Paper IDs mentioning ADNI:\n",
      "['60246e83-563c-41be-afb7-19d536fc66fc'\n",
      " 'c61e4ab1-b892-4093-afad-3ec663a4e581'\n",
      " '5f735753-787c-4c42-bd04-877f8a8c5464' ...\n",
      " '43cc1027-8175-4c3f-a490-9846028e646a'\n",
      " '63031adf-e584-481b-8b78-957b17c513bf'\n",
      " '61d8727e-929b-4909-9d02-8a636011870c']\n"
     ]
    }
   ],
   "source": [
    "# Load your CSV\n",
    "df = pd.read_csv(\"datasets/cleaned_train.csv\")\n",
    "\n",
    "# Look for papers that mention a specific dataset\n",
    "search_label = \"ADNI\" \n",
    "matching_papers = df[df[\"dataset_label\"] == search_label]\n",
    "\n",
    "# Show unique paper Ids\n",
    "print(\"Paper IDs mentioning ADNI:\")\n",
    "print(matching_papers[\"Id\"].unique())\n"
   ]
  },
  {
   "cell_type": "code",
   "execution_count": null,
   "id": "33246d62",
   "metadata": {},
   "outputs": [
    {
     "name": "stdout",
     "output_type": "stream",
     "text": [
      "Datasets mentioned in the paper:\n",
      "                                          dataset_title dataset_label\n",
      "3419  Alzheimer's Disease Neuroimaging Initiative (A...          ADNI\n",
      "\n",
      "--- First Few Paragraphs from Paper ID: 60246e83-563c-41be-afb7-19d536fc66fc ---\n",
      "Introduction: We conducted Japanese Alzheimer's Disease Neuroimaging Initiative (J-ADNI) and compared the basic characteristics and progression profiles with those of ADNI in North America. Methods: A total of 537 Japanese subjects with normal cognition, late amnestic mild cognitive impairment (LMCI), or mild Alzheimer's disease (AD) were enrolled using the same criteria as ADNI. Rates of changes in representative cognitive or functional measures were compared for amyloid positron emission tomog\n",
      "==================================================\n",
      "The significance of neuroimaging and fluid biomarkers in the early diagnosis and prediction of clinical progression during the very early stages of Alzheimer's disease (AD) has been highlighted [1] , as pathogenic molecules causative to AD (e.g., amyloid b [Ab] ) were discovered, and therapeutic strategies against the neurodegenerative process of AD (i.e., disease-modifying therapies [DMTs] ) have been developed [2] . Because of the recent failures in large-scale clinical trials of DMTs in AD pa\n",
      "==================================================\n",
      "\n",
      "==================================================\n",
      "Approval for the J-ADNI study protocol (UMIN000001374) was obtained from the local ethics committees or institutional review committees at the 38 participating clinical sites, including the principal investigator's site (The University of Tokyo). Informed written consent was obtained from all participants at each clinical site.\n",
      "To characterize the clinical, neuroimaging, and biomarker measures in subjects with CN, late amnestic MCI [6] (LMCI), or mild AD in the Japanese elderly population, volun\n",
      "==================================================\n",
      "Baseline characteristics were summarized by frequencies and percentages for categorical variables. Continuous variables were summarized by mean and standard deviation. Group comparisons for continuous variables were performed using the Wilcoxon rank-sum test. Fisher's exact test was used for categorical data. All tests were done under the nominal significance level a 5 0.05.\n",
      "The progression of the continuous outcomes was modeled to assess differences between geographic region (i.e., J-ADNI and A\n",
      "==================================================\n"
     ]
    }
   ],
   "source": [
    "# Load the cleaned train data\n",
    "df = pd.read_csv(\"datasets/cleaned_train.csv\")\n",
    "\n",
    "# Display datasets mentioned in this specific paper\n",
    "paper_id = \"60246e83-563c-41be-afb7-19d536fc66fc\"\n",
    "adni_paper = df[df[\"Id\"] == paper_id]\n",
    "print(\"Datasets mentioned in the paper:\")\n",
    "print(adni_paper[[\"dataset_title\", \"dataset_label\"]].drop_duplicates())\n",
    "\n",
    "# Load and display first few paragraphs of the paper\n",
    "def display_paper_intro(paper_id, json_path=\"datasets\"):\n",
    "    with open(f\"{json_path}/{paper_id}.json\") as f:\n",
    "        paper = json.load(f)\n",
    "\n",
    "    print(f\"\\n--- First Few Paragraphs from Paper ID: {paper_id} ---\")\n",
    "    for p in paper[:5]:\n",
    "        print(p[\"text\"][:500])\n",
    "        print(\"=\" * 50)\n",
    "        \n",
    "display_paper_intro(paper_id, json_path=\"datasets\")\n"
   ]
  },
  {
   "cell_type": "code",
   "execution_count": 27,
   "id": "9d2000d0",
   "metadata": {},
   "outputs": [
    {
     "data": {
      "application/vnd.plotly.v1+json": {
       "config": {
        "plotlyServerURL": "https://plot.ly"
       },
       "data": [
        {
         "alignmentgroup": "True",
         "hovertemplate": "Frequency=%{x}<br>Dataset Label=%{y}<extra></extra>",
         "legendgroup": "",
         "marker": {
          "color": "#636efa",
          "pattern": {
           "shape": ""
          }
         },
         "name": "",
         "offsetgroup": "",
         "orientation": "h",
         "showlegend": false,
         "textposition": "auto",
         "type": "bar",
         "x": [
          3673,
          2400,
          1163,
          1156,
          1011,
          676,
          643,
          623,
          550,
          490
         ],
         "xaxis": "x",
         "y": [
          "ADNI",
          "Alzheimer's Disease Neuroimaging Initiative (ADNI)",
          "Trends in International Mathematics and Science Study",
          "Baltimore Longitudinal Study of Aging",
          "Early Childhood Longitudinal Study",
          "Education Longitudinal Study",
          "Census of Agriculture",
          "Agricultural Resource Management Survey",
          "National Education Longitudinal Study",
          "Rural-Urban Continuum Codes"
         ],
         "yaxis": "y"
        }
       ],
       "layout": {
        "barmode": "relative",
        "legend": {
         "tracegroupgap": 0
        },
        "template": {
         "data": {
          "bar": [
           {
            "error_x": {
             "color": "#2a3f5f"
            },
            "error_y": {
             "color": "#2a3f5f"
            },
            "marker": {
             "line": {
              "color": "#E5ECF6",
              "width": 0.5
             },
             "pattern": {
              "fillmode": "overlay",
              "size": 10,
              "solidity": 0.2
             }
            },
            "type": "bar"
           }
          ],
          "barpolar": [
           {
            "marker": {
             "line": {
              "color": "#E5ECF6",
              "width": 0.5
             },
             "pattern": {
              "fillmode": "overlay",
              "size": 10,
              "solidity": 0.2
             }
            },
            "type": "barpolar"
           }
          ],
          "carpet": [
           {
            "aaxis": {
             "endlinecolor": "#2a3f5f",
             "gridcolor": "white",
             "linecolor": "white",
             "minorgridcolor": "white",
             "startlinecolor": "#2a3f5f"
            },
            "baxis": {
             "endlinecolor": "#2a3f5f",
             "gridcolor": "white",
             "linecolor": "white",
             "minorgridcolor": "white",
             "startlinecolor": "#2a3f5f"
            },
            "type": "carpet"
           }
          ],
          "choropleth": [
           {
            "colorbar": {
             "outlinewidth": 0,
             "ticks": ""
            },
            "type": "choropleth"
           }
          ],
          "contour": [
           {
            "colorbar": {
             "outlinewidth": 0,
             "ticks": ""
            },
            "colorscale": [
             [
              0,
              "#0d0887"
             ],
             [
              0.1111111111111111,
              "#46039f"
             ],
             [
              0.2222222222222222,
              "#7201a8"
             ],
             [
              0.3333333333333333,
              "#9c179e"
             ],
             [
              0.4444444444444444,
              "#bd3786"
             ],
             [
              0.5555555555555556,
              "#d8576b"
             ],
             [
              0.6666666666666666,
              "#ed7953"
             ],
             [
              0.7777777777777778,
              "#fb9f3a"
             ],
             [
              0.8888888888888888,
              "#fdca26"
             ],
             [
              1,
              "#f0f921"
             ]
            ],
            "type": "contour"
           }
          ],
          "contourcarpet": [
           {
            "colorbar": {
             "outlinewidth": 0,
             "ticks": ""
            },
            "type": "contourcarpet"
           }
          ],
          "heatmap": [
           {
            "colorbar": {
             "outlinewidth": 0,
             "ticks": ""
            },
            "colorscale": [
             [
              0,
              "#0d0887"
             ],
             [
              0.1111111111111111,
              "#46039f"
             ],
             [
              0.2222222222222222,
              "#7201a8"
             ],
             [
              0.3333333333333333,
              "#9c179e"
             ],
             [
              0.4444444444444444,
              "#bd3786"
             ],
             [
              0.5555555555555556,
              "#d8576b"
             ],
             [
              0.6666666666666666,
              "#ed7953"
             ],
             [
              0.7777777777777778,
              "#fb9f3a"
             ],
             [
              0.8888888888888888,
              "#fdca26"
             ],
             [
              1,
              "#f0f921"
             ]
            ],
            "type": "heatmap"
           }
          ],
          "heatmapgl": [
           {
            "colorbar": {
             "outlinewidth": 0,
             "ticks": ""
            },
            "colorscale": [
             [
              0,
              "#0d0887"
             ],
             [
              0.1111111111111111,
              "#46039f"
             ],
             [
              0.2222222222222222,
              "#7201a8"
             ],
             [
              0.3333333333333333,
              "#9c179e"
             ],
             [
              0.4444444444444444,
              "#bd3786"
             ],
             [
              0.5555555555555556,
              "#d8576b"
             ],
             [
              0.6666666666666666,
              "#ed7953"
             ],
             [
              0.7777777777777778,
              "#fb9f3a"
             ],
             [
              0.8888888888888888,
              "#fdca26"
             ],
             [
              1,
              "#f0f921"
             ]
            ],
            "type": "heatmapgl"
           }
          ],
          "histogram": [
           {
            "marker": {
             "pattern": {
              "fillmode": "overlay",
              "size": 10,
              "solidity": 0.2
             }
            },
            "type": "histogram"
           }
          ],
          "histogram2d": [
           {
            "colorbar": {
             "outlinewidth": 0,
             "ticks": ""
            },
            "colorscale": [
             [
              0,
              "#0d0887"
             ],
             [
              0.1111111111111111,
              "#46039f"
             ],
             [
              0.2222222222222222,
              "#7201a8"
             ],
             [
              0.3333333333333333,
              "#9c179e"
             ],
             [
              0.4444444444444444,
              "#bd3786"
             ],
             [
              0.5555555555555556,
              "#d8576b"
             ],
             [
              0.6666666666666666,
              "#ed7953"
             ],
             [
              0.7777777777777778,
              "#fb9f3a"
             ],
             [
              0.8888888888888888,
              "#fdca26"
             ],
             [
              1,
              "#f0f921"
             ]
            ],
            "type": "histogram2d"
           }
          ],
          "histogram2dcontour": [
           {
            "colorbar": {
             "outlinewidth": 0,
             "ticks": ""
            },
            "colorscale": [
             [
              0,
              "#0d0887"
             ],
             [
              0.1111111111111111,
              "#46039f"
             ],
             [
              0.2222222222222222,
              "#7201a8"
             ],
             [
              0.3333333333333333,
              "#9c179e"
             ],
             [
              0.4444444444444444,
              "#bd3786"
             ],
             [
              0.5555555555555556,
              "#d8576b"
             ],
             [
              0.6666666666666666,
              "#ed7953"
             ],
             [
              0.7777777777777778,
              "#fb9f3a"
             ],
             [
              0.8888888888888888,
              "#fdca26"
             ],
             [
              1,
              "#f0f921"
             ]
            ],
            "type": "histogram2dcontour"
           }
          ],
          "mesh3d": [
           {
            "colorbar": {
             "outlinewidth": 0,
             "ticks": ""
            },
            "type": "mesh3d"
           }
          ],
          "parcoords": [
           {
            "line": {
             "colorbar": {
              "outlinewidth": 0,
              "ticks": ""
             }
            },
            "type": "parcoords"
           }
          ],
          "pie": [
           {
            "automargin": true,
            "type": "pie"
           }
          ],
          "scatter": [
           {
            "fillpattern": {
             "fillmode": "overlay",
             "size": 10,
             "solidity": 0.2
            },
            "type": "scatter"
           }
          ],
          "scatter3d": [
           {
            "line": {
             "colorbar": {
              "outlinewidth": 0,
              "ticks": ""
             }
            },
            "marker": {
             "colorbar": {
              "outlinewidth": 0,
              "ticks": ""
             }
            },
            "type": "scatter3d"
           }
          ],
          "scattercarpet": [
           {
            "marker": {
             "colorbar": {
              "outlinewidth": 0,
              "ticks": ""
             }
            },
            "type": "scattercarpet"
           }
          ],
          "scattergeo": [
           {
            "marker": {
             "colorbar": {
              "outlinewidth": 0,
              "ticks": ""
             }
            },
            "type": "scattergeo"
           }
          ],
          "scattergl": [
           {
            "marker": {
             "colorbar": {
              "outlinewidth": 0,
              "ticks": ""
             }
            },
            "type": "scattergl"
           }
          ],
          "scattermapbox": [
           {
            "marker": {
             "colorbar": {
              "outlinewidth": 0,
              "ticks": ""
             }
            },
            "type": "scattermapbox"
           }
          ],
          "scatterpolar": [
           {
            "marker": {
             "colorbar": {
              "outlinewidth": 0,
              "ticks": ""
             }
            },
            "type": "scatterpolar"
           }
          ],
          "scatterpolargl": [
           {
            "marker": {
             "colorbar": {
              "outlinewidth": 0,
              "ticks": ""
             }
            },
            "type": "scatterpolargl"
           }
          ],
          "scatterternary": [
           {
            "marker": {
             "colorbar": {
              "outlinewidth": 0,
              "ticks": ""
             }
            },
            "type": "scatterternary"
           }
          ],
          "surface": [
           {
            "colorbar": {
             "outlinewidth": 0,
             "ticks": ""
            },
            "colorscale": [
             [
              0,
              "#0d0887"
             ],
             [
              0.1111111111111111,
              "#46039f"
             ],
             [
              0.2222222222222222,
              "#7201a8"
             ],
             [
              0.3333333333333333,
              "#9c179e"
             ],
             [
              0.4444444444444444,
              "#bd3786"
             ],
             [
              0.5555555555555556,
              "#d8576b"
             ],
             [
              0.6666666666666666,
              "#ed7953"
             ],
             [
              0.7777777777777778,
              "#fb9f3a"
             ],
             [
              0.8888888888888888,
              "#fdca26"
             ],
             [
              1,
              "#f0f921"
             ]
            ],
            "type": "surface"
           }
          ],
          "table": [
           {
            "cells": {
             "fill": {
              "color": "#EBF0F8"
             },
             "line": {
              "color": "white"
             }
            },
            "header": {
             "fill": {
              "color": "#C8D4E3"
             },
             "line": {
              "color": "white"
             }
            },
            "type": "table"
           }
          ]
         },
         "layout": {
          "annotationdefaults": {
           "arrowcolor": "#2a3f5f",
           "arrowhead": 0,
           "arrowwidth": 1
          },
          "autotypenumbers": "strict",
          "coloraxis": {
           "colorbar": {
            "outlinewidth": 0,
            "ticks": ""
           }
          },
          "colorscale": {
           "diverging": [
            [
             0,
             "#8e0152"
            ],
            [
             0.1,
             "#c51b7d"
            ],
            [
             0.2,
             "#de77ae"
            ],
            [
             0.3,
             "#f1b6da"
            ],
            [
             0.4,
             "#fde0ef"
            ],
            [
             0.5,
             "#f7f7f7"
            ],
            [
             0.6,
             "#e6f5d0"
            ],
            [
             0.7,
             "#b8e186"
            ],
            [
             0.8,
             "#7fbc41"
            ],
            [
             0.9,
             "#4d9221"
            ],
            [
             1,
             "#276419"
            ]
           ],
           "sequential": [
            [
             0,
             "#0d0887"
            ],
            [
             0.1111111111111111,
             "#46039f"
            ],
            [
             0.2222222222222222,
             "#7201a8"
            ],
            [
             0.3333333333333333,
             "#9c179e"
            ],
            [
             0.4444444444444444,
             "#bd3786"
            ],
            [
             0.5555555555555556,
             "#d8576b"
            ],
            [
             0.6666666666666666,
             "#ed7953"
            ],
            [
             0.7777777777777778,
             "#fb9f3a"
            ],
            [
             0.8888888888888888,
             "#fdca26"
            ],
            [
             1,
             "#f0f921"
            ]
           ],
           "sequentialminus": [
            [
             0,
             "#0d0887"
            ],
            [
             0.1111111111111111,
             "#46039f"
            ],
            [
             0.2222222222222222,
             "#7201a8"
            ],
            [
             0.3333333333333333,
             "#9c179e"
            ],
            [
             0.4444444444444444,
             "#bd3786"
            ],
            [
             0.5555555555555556,
             "#d8576b"
            ],
            [
             0.6666666666666666,
             "#ed7953"
            ],
            [
             0.7777777777777778,
             "#fb9f3a"
            ],
            [
             0.8888888888888888,
             "#fdca26"
            ],
            [
             1,
             "#f0f921"
            ]
           ]
          },
          "colorway": [
           "#636efa",
           "#EF553B",
           "#00cc96",
           "#ab63fa",
           "#FFA15A",
           "#19d3f3",
           "#FF6692",
           "#B6E880",
           "#FF97FF",
           "#FECB52"
          ],
          "font": {
           "color": "#2a3f5f"
          },
          "geo": {
           "bgcolor": "white",
           "lakecolor": "white",
           "landcolor": "#E5ECF6",
           "showlakes": true,
           "showland": true,
           "subunitcolor": "white"
          },
          "hoverlabel": {
           "align": "left"
          },
          "hovermode": "closest",
          "mapbox": {
           "style": "light"
          },
          "paper_bgcolor": "white",
          "plot_bgcolor": "#E5ECF6",
          "polar": {
           "angularaxis": {
            "gridcolor": "white",
            "linecolor": "white",
            "ticks": ""
           },
           "bgcolor": "#E5ECF6",
           "radialaxis": {
            "gridcolor": "white",
            "linecolor": "white",
            "ticks": ""
           }
          },
          "scene": {
           "xaxis": {
            "backgroundcolor": "#E5ECF6",
            "gridcolor": "white",
            "gridwidth": 2,
            "linecolor": "white",
            "showbackground": true,
            "ticks": "",
            "zerolinecolor": "white"
           },
           "yaxis": {
            "backgroundcolor": "#E5ECF6",
            "gridcolor": "white",
            "gridwidth": 2,
            "linecolor": "white",
            "showbackground": true,
            "ticks": "",
            "zerolinecolor": "white"
           },
           "zaxis": {
            "backgroundcolor": "#E5ECF6",
            "gridcolor": "white",
            "gridwidth": 2,
            "linecolor": "white",
            "showbackground": true,
            "ticks": "",
            "zerolinecolor": "white"
           }
          },
          "shapedefaults": {
           "line": {
            "color": "#2a3f5f"
           }
          },
          "ternary": {
           "aaxis": {
            "gridcolor": "white",
            "linecolor": "white",
            "ticks": ""
           },
           "baxis": {
            "gridcolor": "white",
            "linecolor": "white",
            "ticks": ""
           },
           "bgcolor": "#E5ECF6",
           "caxis": {
            "gridcolor": "white",
            "linecolor": "white",
            "ticks": ""
           }
          },
          "title": {
           "x": 0.05
          },
          "xaxis": {
           "automargin": true,
           "gridcolor": "white",
           "linecolor": "white",
           "ticks": "",
           "title": {
            "standoff": 15
           },
           "zerolinecolor": "white",
           "zerolinewidth": 2
          },
          "yaxis": {
           "automargin": true,
           "gridcolor": "white",
           "linecolor": "white",
           "ticks": "",
           "title": {
            "standoff": 15
           },
           "zerolinecolor": "white",
           "zerolinewidth": 2
          }
         }
        },
        "title": {
         "text": "Top 10 Most Mentioned Datasets"
        },
        "xaxis": {
         "anchor": "y",
         "domain": [
          0,
          1
         ],
         "title": {
          "text": "Frequency"
         }
        },
        "yaxis": {
         "anchor": "x",
         "domain": [
          0,
          1
         ],
         "title": {
          "text": "Dataset Label"
         }
        }
       }
      }
     },
     "metadata": {},
     "output_type": "display_data"
    }
   ],
   "source": [
    "import plotly.express as px\n",
    "import pandas as pd\n",
    "\n",
    "# Load the cleaned dataset\n",
    "cleaned_dataset = pd.read_csv(\"datasets/cleaned_train.csv\")\n",
    "\n",
    "# Get the top 10 most mentioned dataset labels\n",
    "top_datasets = cleaned_dataset[\"dataset_label\"].value_counts().head(10).reset_index()\n",
    "top_datasets.columns = [\"dataset_label\", \"frequency\"]\n",
    "\n",
    "# Create a bar plot using Plotly\n",
    "fig = px.bar(top_datasets, \n",
    "             x=\"frequency\", \n",
    "             y=\"dataset_label\", \n",
    "             title=\"Top 10 Most Mentioned Datasets\", \n",
    "             labels={\"frequency\": \"Frequency\", \"dataset_label\": \"Dataset Label\"},\n",
    "             orientation=\"h\")\n",
    "\n",
    "# Show the plot\n",
    "fig.show()\n"
   ]
  },
  {
   "cell_type": "code",
   "execution_count": null,
   "id": "66719761",
   "metadata": {},
   "outputs": [
    {
     "name": "stdout",
     "output_type": "stream",
     "text": [
      "Datasets mentioned in the paper:\n",
      "                                          dataset_title dataset_label\n",
      "3419  Alzheimer's Disease Neuroimaging Initiative (A...          ADNI\n",
      "\n",
      "--- All Paragraphs from Paper ID: 60246e83-563c-41be-afb7-19d536fc66fc ---\n",
      "Introduction: We conducted Japanese Alzheimer's Disease Neuroimaging Initiative (J-ADNI) and compared the basic characteristics and progression profiles with those of ADNI in North America. Methods: A total of 537 Japanese subjects with normal cognition, late amnestic mild cognitive impairment (LMCI), or mild Alzheimer's disease (AD) were enrolled using the same criteria as ADNI. Rates of changes in representative cognitive or functional measures were compared for amyloid positron emission tomography-or cerebrospinal fluid amyloid b(1-42)-positive LMCI and mild AD between J-ADNI and ADNI.\n",
      "Results: Amyloid positivity rates were significantly higher in normal cognition of ADNI but at similar levels in LMCI and mild AD between J-ADNI and ADNI. Profiles of decline in cognitive or functional measures in amyloid-positive LMCI in J-ADNI (n 5 75) and ADNI (n 5 269) were remarkably similar, whereas those in mild AD were milder in J-ADNI (n 5 73) compared with ADNI (n 5 230). Discussion: These results support the feasibility of bridging of clinical trials in the prodromal stage of AD between Asia and western countries.\n",
      "==================================================\n",
      "The significance of neuroimaging and fluid biomarkers in the early diagnosis and prediction of clinical progression during the very early stages of Alzheimer's disease (AD) has been highlighted [1] , as pathogenic molecules causative to AD (e.g., amyloid b [Ab] ) were discovered, and therapeutic strategies against the neurodegenerative process of AD (i.e., disease-modifying therapies [DMTs] ) have been developed [2] . Because of the recent failures in large-scale clinical trials of DMTs in AD patients at the dementia stage [3] [4] [5] , the target population of DMT trials is being shifted to earlier stages, i.e., mild cognitive impairment (MCI) [6] or even the asymptomatic stage (i.e., preclinical AD [7] ), where the clinical progression is expected to be slower, and the drug efficacies harder to evaluate.\n",
      "To develop methods to detect the progression of AD in its early stages (i.e., MCI and mild AD) in a multicenter trial setting using neuroimaging (e.g., positron emission tomography [PET] scan, magnetic resonance imaging [MRI] ), and biomarkers (e.g., cerebrospinal fluid [CSF] ) and establish a database delineating the natural history of the early stage of AD, AD Neuroimaging Initiative (ADNI) has been conducted in North America since 2004. ADNI has firmly established the basis for the current global clinical trials of DMTs for AD in its prodromal and mild stages [8] .\n",
      "A dramatic increase in the elderly population and those suffering from AD is also a common and imminent issue in Asian countries, especially Japan, where patients are already being involved in global clinical trials for AD DMTs. However, there have not been any large-scale observational studies of the early stages of AD including MCI in the Asian population, which has its own ethnic characteristics (e.g., lower prevalence of apolipoprotein E (APOE) ε4 alleles [9] , difference in language and cultures). Furthermore, to validate the ADNI data obtained primarily in Caucasian populations in the United States, a replication of the ADNI study in a second cohort, especially in a nonCaucasian population, has long been awaited. To this end, we initiated the Japanese (J-) ADNI study, closely discussing the harmonization of the protocol and procedures with the ADNI core members from 2006. We launched J-ADNI as a multicenter, longitudinal observational study using an almost identical protocol to ADNI's in 2008. We have recently made publicly available the J-ADNI database obtained from 537 individuals of AD, MCI, and normal cognition (CN), supported in a database (National Bioscience Database Center, Japan) available for worldwide data sharing. In this article, we describe the basic characteristics and clinical progression profiles of the J-ADNI population and compare the data with those of ADNI to determine if any differences exist between the Japanese and North American populations with the goal of international harmonization for clinical trials of DMTs for AD.\n",
      "==================================================\n",
      "\n",
      "==================================================\n",
      "Approval for the J-ADNI study protocol (UMIN000001374) was obtained from the local ethics committees or institutional review committees at the 38 participating clinical sites, including the principal investigator's site (The University of Tokyo). Informed written consent was obtained from all participants at each clinical site.\n",
      "To characterize the clinical, neuroimaging, and biomarker measures in subjects with CN, late amnestic MCI [6] (LMCI), or mild AD in the Japanese elderly population, volunteer participants between the ages of 60 and 84 years fluent in Japanese were diagnosed and enrolled using generally identical inclusion and exclusion criteria to those of ADNI [10] . Briefly, the subjects with LMCI or AD both had memory complaints, whereas CN had none. On Mini-Mental State Examination (MMSE), the range for CN and LMCI was 24-30 and for AD, 20-26 (all are inclusive). The Clinical Dementia Rating (CDR) global score for CN was 0, LMCI was 0.5 (memory domain 0.5 mandatory), and the rating for AD was 0.5 or 1. Delayed recall of the Logical Memory IIA subscale of the Wechsler Memory Scale-Revised was used for a memory criterion with cutoff scores based on education: For CN subjects, S9 for 16 years of education, S5 for 10-15 years, and S3 for 0-9 years. For subjects with LMCI or AD, Logical Memory IIA scores were &8 for 16 years of education, &4 for 10-15 years, and &2 for 0-9 years. The subjects with LMCI had to be largely intact with regard to general cognition and functional performance and could not meet diagnostic criteria for a dementia diagnosis, thus they were classified as single-or multi-domain amnestic MCI. J-ADNI did not recruit participants with early MCI, so this ADNI group was excluded from analysis. The subjects with mild AD had to satisfy the National Institute of Neurological and Communicative Disorders and Stroke-Alzheimer's Disease and Related Disorders Association criteria for probable AD [11] . Psychoactive drugs were prohibited or restricted as defined in the protocol, and exceptions were approved and recorded. The participant should have Hachinski Ischemic Score of &4, and should not be depressed (Geriatric Depression Scale score &6). Of 715 people assessed for eligibility, 537 met criteria and were enrolled ( Fig. 1) .\n",
      "At baseline, the following cognitive and functional measures based on the National Alzheimer's Coordinating Center Uniform Data Set, as used in ADNI, were examined: Digit Span, Category Fluency, Trail Making A and B, Digit Symbol Substitution Test of the Wechsler Adult Intelligence Scale III, Boston Naming Test, Clock Drawing Test, Neuropsychiatric Inventory-Q, AD Assessment Scale-Cognitive Subscale (ADAS-Cog), and Functional Assessment Questionnaire (FAQ). Audio-Visual Learning Test was not performed in J-ADNI. Participants who were CN or MCI were evaluated every 6 or 12 months for 36 months, and those with AD for 24 months, as in ADNI. Clinical conversion from LMCI to dementia was primarily diagnosed by clinical site investigators at every visit and verified by an adjudication committee.\n",
      "All subjects received a structural MRI scan at 1.5 Tesla signal strength based on three-dimensional magnetization-prepared rapid acquisition with gradient echo sequence using ADNI protocol at all visits [12] . Three-hundred and forty cases (63.3% of total) received a 18 F-fluorodeoxyglucose PET scan at baseline and had follow-up scans at every 6 or 12 months; 189 cases (35.2%) had a 11 C-Pittsburgh compound B (PiB) amyloid PET scan at baseline and had additional scans at every 12 months. One hundred and ninety-eight cases (36.9%) underwent a lumbar puncture at baseline, and some had another lumbar puncture at month 12. CSF samples were assayed for Ab(1-42), total tau, and phosphorylated tau by using multiplex xMAP Luminex platform (Luminex Corp, Austin, TX) with Innogenetics (INNO-BIA AlzBio3; Ghent, Belgium) immunoassay kit-based reagent as validated previously [13] at the J-ADNI biomarker core at Niigata University. Blood samples were obtained at each visit, and plasma samples were stored at 280 C degrees. APOE genotyping was performed by using polymerase chain reaction as described [9] .\n",
      "All data uploaded by each site were transmitted online to the J-ADNI data center through a virtual private network and underwent standard quality check procedures. The primary outcome measures were the rates of progression from LMCI to AD as well as a variety of clinical and psychometric measures, and imaging and chemical biomarkers.\n",
      "==================================================\n",
      "Baseline characteristics were summarized by frequencies and percentages for categorical variables. Continuous variables were summarized by mean and standard deviation. Group comparisons for continuous variables were performed using the Wilcoxon rank-sum test. Fisher's exact test was used for categorical data. All tests were done under the nominal significance level a 5 0.05.\n",
      "The progression of the continuous outcomes was modeled to assess differences between geographic region (i.e., J-ADNI and ADNI) using mixed models of repeated measures [14] controlling for age, APOE genotype, and education. The variance-covariance structure was selected by Akaike information criterion [15] from among those with heterogeneous or homogeneous variance, and unstructured, compound symmetric, or autoregressive order one correlation structures. Rates of conversion from amyloid-positive MCI to AD by region were estimated using Kaplan-Meier plots and compared using the log-rank test and the Cox proportional hazards model [16] controlling for age, APOE, and education. All hypotheses were tested at the two-sided significance level a 5 0.05. Statistical software R was used for statistical analysis.\n",
      "Rates of change in representative cognitive composite measures were compared for amyloid-positive LMCI and mild AD individuals between the J-ADNI and ADNI populations. J-ADNI data were obtained from the National Bioscience Database Center Human Database, Japan (Research ID: hum0043.v1, 2016). ADNI data used in the preparation of this article were obtained from the ADNI database (adni.loni.usc.edu). The ADNI was launched in 2003 as a public-private partnership, led by Principal Investigator Michael W. Weiner, MD. The primary goal of ADNI has been to test whether serial MRI, PET, other biological markers, and clinical and neuropsychological assessment can be combined to measure the progression of MCI and early AD.\n",
      "==================================================\n",
      "Amyloid positivity was defined as visual reads of the PiB PET scans being not negative [17] , or baseline CSF Ab42 , 333 pg/mL in J-ADNI and as baseline AV45 (florbetapir) PET mean cortical standardized uptake value ratios (SUVRs) . 1.11 [18] or baseline CSF Ab42 , 192 pg/mL in ADNI [13] , respectively. SUVR of PiB in J-ADNI was calculated based on the J-ADNI PET images according to the published method, and the cutoff line has been defined at 1.48 [17] . J-ADNI used visual reads of PiB PET scans as criteria for amyloid deposition, because visual reads, not SUVR, has been approved for interpretation of PET images with 18 F-labeled amyloid PET diagnostic drugs, to which PiB presents similar distribution, by the Food and Drug Administration and by the Japanese guideline. The cutoff for CSF Ab(1-42) in J-ADNI was determined to be 333 pg/mL by a Receiver Operating Characteristic analysis of baseline CSF Ab(1-42) levels from 35 AD and 53 CN cases (specificity, 0.87; sensitivity, 0.89). The k statistic was used to quantify agreement between dichotomous measurements (SUVR of PiB vs. CSF Ab ) relative to what would be expected by chance in J-ADNI. \n",
      "==================================================\n",
      "\n",
      "==================================================\n",
      "A total of 537 subjects (154 CN, 234 LMCI, and 149 mild AD), out of 715 screened, were enrolled at baseline in J-ADNI at 38 clinical sites during August 2008 and April 2012 and followed up until March 2014. Among these, 83 CN (54%), 112 LMCI (48%), and 83 mild AD (56%) were tested either by PiB PET or CSF assay for Ab(1-42) for amyloid positivity. Nineteen CN (23% of tested), 75 LMCI (67%), and 73 mild AD (88%) were judged to be amyloid positive either by PET or CSF, a significantly lower rate than ADNI CN (44%, P , .001) but not significantly different from ADNI LMCI and mild AD (75% and 92%) (Fig. 1 ). Family history, however, was similar in the CN but more frequently reported in ADNI LMCI and mild AD (54% and 47%, respectively) compared to J-ADNI (26% and 30%).\n",
      "A scatterplot of baseline mean cortical SUVR of PiB PET and CSF Ab(1-42) levels from 81 J-ADNI participants who had both PET scan and CSF sampling at baseline demonstrated good agreement of these amyloid biomarkers (k 5 0.73) (Fig. 2) . This was consistent with the previous ADNI results on PiB PET and CSF Ab(1-42) [19] (k 5 0.74) and florbetapir and CSF Ab(1-42) [20] (k 5 0.72), supporting our definition and interpretation of amyloid-positive cases in this study. The percentages of APOE ε4-positive individuals (i.e., homozygous or heterozygous) in the total CN, LMCI, and mild AD in J-ADNI were 24, 52, and 60%, and 25, 49, and 59% in those with amyloid biomarker data, respectively, which were at comparable levels to those with amyloid biomarker data in ADNI (28, 55, and 68%).\n",
      "The baseline characteristics of J-ADNI and ADNI participants with amyloid biomarker data are shown in Table 1 . Of note, the mean age was younger in J-ADNI CN, and education in ADNI was higher in all three diagnostic groups; the percentages of mild AD individuals with CDR global score 0.5 and 1 were almost even at 48% and 51%, respectively, in ADNI, whereas those with score 0.5 were predominant (70%) compared with those with score 1 (30%) in J-ADNI (P 5 .001). J-ADNI participants with mild AD also had better mean baseline scores on ADAS-Cog (16.0 vs. 19.7) and FAQ (9.7 vs. 13.1) but not on other performance tests. LMCI and CN participants showed mixed results at baseline, with most mean scores similar but occasional significant differences, not consistent in direction.\n",
      "==================================================\n",
      "Patients in the J-ADNI LMCI (234 cases enrolled, 232 at baseline) progressed to dementia in 12 months at a rate (95% confidence interval) of 28.8% (22.6%, 34.5%) per year, more rapidly than in ADNI (20 (Fig. 3A) . The progression of conversion in amyloid-positive LMCI showed a similar trend to that in the total LMCI (Fig. 3B) Clinical trials for AD DMTs increasingly focus on the population of amyloid-positive LMCI (i.e., prodromal AD [21] ) and mild AD. In this group, cognitive and functional decline are frequently used as a more sensitive endpoint \n",
      "than progression to dementia. Moreover, decline may be less sensitive than baseline levels to biases from education or culture. To this end, we compared the progression profiles of the four major composite measures, representing cognition (MMSE and ADAS-Cog13), cognition and function (CDR-Sum of Boxes), and function in daily living (FAQ) in amyloid-positive LMCI and mild AD in J-ADNI and ADNI. \n",
      "==================================================\n",
      "We show that J-ADNI successfully recruited cohorts of CN, subjects with LMCI and mild AD with generally comparable baseline characteristics and progression profiles with those of ADNI, with some differences. Notably, the four representative cognitive, clinical, and functional composite measures, i.e., MMSE, ADASCog13, CDR-SB, and FAQ, showed almost similar progression profiles in terms of scores and rate of changes in amyloid-positive LMCI (i.e., MCI due to AD or prodromal AD [21] ) between J-ADNI and ADNI, supporting the notion that LMCI due to AD in Japanese and Caucasian populations shares comparable characteristics beyond region or ethnicity and that the progression in cognitive and functional decline can be evaluated using the same methods and criteria. Even though there were some differences, e.g., in the education level, we have been able to define LMCI groups that are comparable in objective measures of cognitive and functional status and change that would be key measures in a clinical trial targeted at delaying these aspects of disease progression in this early disease stage. This supports the feasibility of multisite clinical trials in Caucasian and Asian (Japanese) populations, with such measures as outcomes in this particular group.\n",
      "The faster LMCI to dementia conversion rate in the total as well as amyloid-positive J-ADNI LMCI populations compared with ADNI was the only apparent difference in terms of the symptomatic progression in LMCI (Fig. 3) . This is not consistent with the similar levels of CDR-SB scores in amyloid-positive LMCI in J-ADNI and ADNI. One possible explanation is that J-ADNI clinicians defined the clinical cutoff for AD more sensitively. Under this scenario, people with borderline symptoms would be classified as progressing to AD earlier in J-ADNI than in ADNI. In this context, the time-to-event outcome in MCI trials (i.e., conversion to dementia) might sometimes be problematic because the criteria for clinical judgment are difficult to harmonize and implement. The time-to-event endpoint is also prone to be underpowered relative to repeated continuous outcome measures [22] .\n",
      "In contrast to LMCI, the J-ADNI mild AD showed generally better scores in MMSE, ADAS-Cog13, CDR-SB, and FAQ throughout the 2-year follow-up, and the speed of decline in the cognitive composites (MMSE and ADAS) also were slower compared with ADNI despite the higher education in mild AD patients in ADNI. This trend was consistent with the significantly higher percentage of mild AD with CDR score 0.5 (70%) in J-ADNI, compared with that in ADNI (49%) (P 5 .001, see Table 1 ). It is possible that the mild AD patients enrolled in J-ADNI were slightly earlier in the disease stage because of a minor difference in the dividing line between LMCI and AD, with J-ADNI investigators setting a slightly earlier cut point on initial diagnosis, although the J-ADNI protocol used the identical criteria of MCI as ADNI [6] . In support of this idea, we note that the LMCI individuals in ADNI do \"catch up\" after a year or two when we look at the conversion rates to dementia (Fig. 3) .\n",
      "A variety of factors may potentially underlie these discrepancies, including the clinical division of LMCI and AD between J-ADNI and ADNI. Because one criterion for AD (dementia) is limitation in being able to function in daily living, the \"background setting\" may be different in J-ADNI and ADNI. A number of environmental factors, for example, differences in life style and social welfare systems, should also be considered. A deeper look at the CDR-SB or FAQ items, as well as the clinical records, may help to clarify this point. The higher education in ADNI compared with J-ADNI may be an additional factor for differential rates of progression in mild AD; higher cognitive reserve may cause slower decline at an early stage but faster progression subsequently in AD dementia stage when pathology overwhelmed the reserve. Another possibility is that the underlying disease process is actually different. Notably, it is increasingly well recognized that the neuropathology of AD may be somewhat heterogeneous, with most people having mixed pathology at an advanced stage. It may be that the neuropathological characteristics are slightly different between the Japanese and US AD participants from the early stages, leading to differences in the clinical progression; this aspect should be verified by further comparing the extent of neurodegeneration by atrophy or CSF tau levels, and vascular lesions in MRI images, as well as by future clinicopathological studies. Regarding the methodological aspects, the difference in cognitive or functional scales translated from English to Japanese might have affected the assessment of the participants, which will require further linguistic validation. Development of instruments that can quantify cognition beyond language will also be needed. Further harmonization and consensus in clinical judgment (within Japan as well as internationally), e.g., on the diagnosis of MCI and decisions on conversion to dementia, might improve the consistency in the evaluation of the different populations. Finally, in addition to the difference in the incidence of APOEε4 genotype, other genetic characteristics of the Japanese or Asian population should be revealed by further genomic analysis in J-ADNI.\n",
      "In view of the continuum in the progression profiles of cognitive and functional decline in mild AD with those of the later stage of LMCI both in J-ADNI and ADNI, the present results may justify the current trend to combine LMCI due to AD (prodromal AD) and mild AD as the target population in clinical trials of DMTs in the early stage of AD [23, 24] . However, comparison of treatment effects on symptom progression should also be carefully assessed, given the differing progression rates between Japanese and Caucasian ADNI cohorts in the mild AD population.\n",
      "CN populations in J-ADNI and ADNI exhibited similar characteristics with minimal changes in the cognitive scores during the 3-year follow-up, although the percentage of amyloid-positive CN individuals (i.e., preclinical AD [7] ) was significantly higher in ADNI (44%) compared with J-ADNI (23%; P , .001). The higher ages (mean, 73.7 years) in ADNI CN compared with J-ADNI (mean, 67.9 years) might have affected the results, although the APOEε4 positivity rates were similar (28% in ADNI vs. 25% in J-ADNI), suggesting the involvement of additional factors, e.g., bias in enrollment due to volunteering of the high-risk individuals in US or other genetic and environmental differences. Another contributing factor to the higher amyloid positivity in ADNI CN is the high CSF positivity (154/370 5 42%) compared with the PET positivity (95/285 5 33%); a careful reevaluation of the CSF and PET positivity criteria in CN may be required to resolve this discrepancy. Further characterization of the preclinical AD population in Asian and Caucasian populations should also be pursued through the large-scale prevention trials, e.g., the A4 study [25] , in which Japan also is participating.\n",
      "There are some limitations in J-ADNI. First, the smaller size of the study in J-ADNI might have caused some of the differences observed in baseline demographics (e.g., age in CN groups) and progression rates and biomarker data between ADNI and J-ADNI, although the total number of participants (537 cases) provided adequate power for planned comparisons, and 95% confidence intervals showed good precision for estimates of differences (e.g., HRs for MCI to dementia conversion). Second, the duration of observation in J-ADNI was limited to 2-3 years, and a longer follow-up, which should provide a more realistic delineation of the natural history, was not available. Third, the difference in the criteria for amyloid positivity (i.e., PiB PET and/or CSF in J-ADNI vs. florbetapir PET and/or CSF in ADNI) might have biased the results, although the correlation between PET and CSF measures in J-ADNI was comparable to that in ADNI. Indeed, the Alzheimer's Association quality program (in which the J-ADNI Niigata laboratory is also participating) has shown a considerable betweenlaboratory variability in CSF Ab(1-42) measurements, which makes the definition of a universal cutoff value difficult [26] ; the approximate 1.73-fold difference in the cutoff values for amyloid positivity between J-ADNI (333 pg/mL) and ADNI (192 pg/mL) may lie within this variability range.\n",
      "In sum, we have conducted ADNI study in Japan, which demonstrated the similarity and differences in LMCI and mild AD populations between Japanese and Caucasian, as well as the feasibility of multicenter clinical studies and trials using neuroimaging and fluid biomarkers in different regions in the world. The overall purpose of ADNI consists in the validation of biomarkers for AD clinical trials, which is being achieved by correlating biomarker values, e.g., MRI, fluorodeoxyglucose or amyloid PET, and CSF Ab(1-42) or tau, with clinical or cognitive data in individual ADNI projects and thus will work as an internal validation. Further comparison of such correlations between the ADNIs in different regions will provide us with external validity of biomarkers in the trials of early stages of AD. Such comprehensive analyses will lend support to the successful bridging of AD clinical trial data among Asia, North America, and Europe.\n",
      "==================================================\n",
      "We thank participants of J-ADNI and ADNI studies and their family members who made this study possible. We thank J-ADNI and ADNI colleagues for their contributions to the work summarized here. \n",
      "==================================================\n"
     ]
    }
   ],
   "source": [
    "# Load the cleaned train data\n",
    "df = pd.read_csv(\"datasets/cleaned_train.csv\")\n",
    "\n",
    "# Display datasets mentioned in this specific paper\n",
    "paper_id = \"60246e83-563c-41be-afb7-19d536fc66fc\"\n",
    "adni_paper = df[df[\"Id\"] == paper_id]\n",
    "print(\"Datasets mentioned in the paper:\")\n",
    "print(adni_paper[[\"dataset_title\", \"dataset_label\"]].drop_duplicates())\n",
    "\n",
    "# Load and display all paragraphs of the paper\n",
    "def display_all_paragraphs(paper_id, json_path=\"datasets\"):\n",
    "    with open(f\"{json_path}/{paper_id}.json\") as f:\n",
    "        paper = json.load(f)\n",
    "\n",
    "    print(f\"\\n--- All Paragraphs from Paper ID: {paper_id} ---\")\n",
    "    for p in paper:\n",
    "        print(p[\"text\"])\n",
    "        print(\"=\" * 50)\n",
    "\n",
    "# Call the correct function to display all paragraphs\n",
    "display_all_paragraphs(paper_id, json_path=\"datasets\")\n",
    "\n"
   ]
  },
  {
   "cell_type": "code",
   "execution_count": null,
   "id": "543fc7cb",
   "metadata": {},
   "outputs": [
    {
     "name": "stdout",
     "output_type": "stream",
     "text": [
      "Abstract for Paper ID: 60246e83-563c-41be-afb7-19d536fc66fc\n",
      "Introduction: We conducted Japanese Alzheimer's Disease Neuroimaging Initiative (J-ADNI) and compared the basic characteristics and progression profiles with those of ADNI in North America. Methods: A total of 537 Japanese subjects with normal cognition, late amnestic mild cognitive impairment (LMCI), or mild Alzheimer's disease (AD) were enrolled using the same criteria as ADNI. Rates of changes in representative cognitive or functional measures were compared for amyloid positron emission tomography-or cerebrospinal fluid amyloid b(1-42)-positive LMCI and mild AD between J-ADNI and ADNI.\n",
      "Results: Amyloid positivity rates were significantly higher in normal cognition of ADNI but at similar levels in LMCI and mild AD between J-ADNI and ADNI. Profiles of decline in cognitive or functional measures in amyloid-positive LMCI in J-ADNI (n 5 75) and ADNI (n 5 269) were remarkably similar, whereas those in mild AD were milder in J-ADNI (n 5 73) compared with ADNI (n 5 230). Discussion: These results support the feasibility of bridging of clinical trials in the prodromal stage of AD between Asia and western countries.\n"
     ]
    }
   ],
   "source": [
    "# Summarize key points or extract specific sections\n",
    "def summarize_paper(paper_id, json_path=\"datasets\"):\n",
    "    with open(f\"{json_path}/{paper_id}.json\") as f:\n",
    "        paper = json.load(f)\n",
    "    \n",
    "    #Example: Extract the first paragraph as an abstract \n",
    "    abstract = paper[0][\"text\"]  \n",
    "    print(f\"Abstract for Paper ID: {paper_id}\")\n",
    "    print(abstract)\n",
    "    \n",
    "summarize_paper(paper_id, json_path=\"datasets\")\n",
    "\n",
    "\n"
   ]
  },
  {
   "cell_type": "code",
   "execution_count": null,
   "id": "e5ce51b1",
   "metadata": {},
   "outputs": [
    {
     "name": "stdout",
     "output_type": "stream",
     "text": [
      "\n",
      "Datasets mentioned in the paper:\n",
      "                                          dataset_title dataset_label\n",
      "3419  Alzheimer's Disease Neuroimaging Initiative (A...          ADNI\n",
      "\n",
      "--- First 5 Paragraphs from Paper ID: 60246e83-563c-41be-afb7-19d536fc66fc ---\n",
      "Introduction: We conducted Japanese Alzheimer's Disease Neuroimaging Initiative (J-ADNI) and compared the basic characteristics and progression profiles with those of ADNI in North America. Methods: A total of 537 Japanese subjects with normal cognition, late amnestic mild cognitive impairment (LMCI), or mild Alzheimer's disease (AD) were enrolled using the same criteria as ADNI. Rates of changes in representative cognitive or functional measures were compared for amyloid positron emission tomog\n",
      "==================================================\n",
      "The significance of neuroimaging and fluid biomarkers in the early diagnosis and prediction of clinical progression during the very early stages of Alzheimer's disease (AD) has been highlighted [1] , as pathogenic molecules causative to AD (e.g., amyloid b [Ab] ) were discovered, and therapeutic strategies against the neurodegenerative process of AD (i.e., disease-modifying therapies [DMTs] ) have been developed [2] . Because of the recent failures in large-scale clinical trials of DMTs in AD pa\n",
      "==================================================\n",
      "\n",
      "==================================================\n",
      "Approval for the J-ADNI study protocol (UMIN000001374) was obtained from the local ethics committees or institutional review committees at the 38 participating clinical sites, including the principal investigator's site (The University of Tokyo). Informed written consent was obtained from all participants at each clinical site.\n",
      "To characterize the clinical, neuroimaging, and biomarker measures in subjects with CN, late amnestic MCI [6] (LMCI), or mild AD in the Japanese elderly population, volun\n",
      "==================================================\n",
      "Baseline characteristics were summarized by frequencies and percentages for categorical variables. Continuous variables were summarized by mean and standard deviation. Group comparisons for continuous variables were performed using the Wilcoxon rank-sum test. Fisher's exact test was used for categorical data. All tests were done under the nominal significance level a 5 0.05.\n",
      "The progression of the continuous outcomes was modeled to assess differences between geographic region (i.e., J-ADNI and A\n",
      "==================================================\n",
      "\n",
      "Word Frequency Analysis (without stopwords):\n",
      "\n",
      "Most common words (without stopwords):\n",
      "adni: 129\n",
      "lmci: 40\n",
      "clinical: 32\n",
      "mild: 31\n",
      "amyloid: 29\n",
      "progression: 23\n",
      "pet: 21\n",
      "csf: 21\n",
      "baseline: 19\n",
      "between: 18\n",
      "\n",
      "Named Entity Recognition (NER):\n",
      "\n",
      "Most common named entities:\n",
      "ADNI: 49\n",
      "LMCI: 31\n",
      "MCI: 15\n",
      "Japanese: 14\n",
      "CSF: 14\n",
      "PET: 13\n",
      "Fig: 7\n",
      "Japan: 6\n",
      "FAQ: 6\n",
      "Asian: 5\n"
     ]
    },
    {
     "data": {
      "image/png": "[encoded data removed]",
      "text/plain": [
       "<Figure size 1500x700 with 1 Axes>"
      ]
     },
     "metadata": {},
     "output_type": "display_data"
    },
    {
     "data": {
      "application/vnd.plotly.v1+json": {
       "config": {
        "plotlyServerURL": "https://plot.ly"
       },
       "data": [
        {
         "alignmentgroup": "True",
         "hovertemplate": "Word=%{x}<br>Frequency=%{marker.color}<extra></extra>",
         "legendgroup": "",
         "marker": {
          "color": [
           129,
           40,
           32,
           31,
           29,
           23,
           21,
           21,
           19,
           18
          ],
          "coloraxis": "coloraxis",
          "pattern": {
           "shape": ""
          }
         },
         "name": "",
         "offsetgroup": "",
         "orientation": "v",
         "showlegend": false,
         "textposition": "auto",
         "type": "bar",
         "x": [
          "adni",
          "lmci",
          "clinical",
          "mild",
          "amyloid",
          "progression",
          "pet",
          "csf",
          "baseline",
          "between"
         ],
         "xaxis": "x",
         "y": [
          129,
          40,
          32,
          31,
          29,
          23,
          21,
          21,
          19,
          18
         ],
         "yaxis": "y"
        }
       ],
       "layout": {
        "barmode": "relative",
        "coloraxis": {
         "colorbar": {
          "title": {
           "text": "Frequency"
          }
         },
         "colorscale": [
          [
           0,
           "#440154"
          ],
          [
           0.1111111111111111,
           "#482878"
          ],
          [
           0.2222222222222222,
           "#3e4989"
          ],
          [
           0.3333333333333333,
           "#31688e"
          ],
          [
           0.4444444444444444,
           "#26828e"
          ],
          [
           0.5555555555555556,
           "#1f9e89"
          ],
          [
           0.6666666666666666,
           "#35b779"
          ],
          [
           0.7777777777777778,
           "#6ece58"
          ],
          [
           0.8888888888888888,
           "#b5de2b"
          ],
          [
           1,
           "#fde725"
          ]
         ]
        },
        "legend": {
         "tracegroupgap": 0
        },
        "template": {
         "data": {
          "bar": [
           {
            "error_x": {
             "color": "#2a3f5f"
            },
            "error_y": {
             "color": "#2a3f5f"
            },
            "marker": {
             "line": {
              "color": "#E5ECF6",
              "width": 0.5
             },
             "pattern": {
              "fillmode": "overlay",
              "size": 10,
              "solidity": 0.2
             }
            },
            "type": "bar"
           }
          ],
          "barpolar": [
           {
            "marker": {
             "line": {
              "color": "#E5ECF6",
              "width": 0.5
             },
             "pattern": {
              "fillmode": "overlay",
              "size": 10,
              "solidity": 0.2
             }
            },
            "type": "barpolar"
           }
          ],
          "carpet": [
           {
            "aaxis": {
             "endlinecolor": "#2a3f5f",
             "gridcolor": "white",
             "linecolor": "white",
             "minorgridcolor": "white",
             "startlinecolor": "#2a3f5f"
            },
            "baxis": {
             "endlinecolor": "#2a3f5f",
             "gridcolor": "white",
             "linecolor": "white",
             "minorgridcolor": "white",
             "startlinecolor": "#2a3f5f"
            },
            "type": "carpet"
           }
          ],
          "choropleth": [
           {
            "colorbar": {
             "outlinewidth": 0,
             "ticks": ""
            },
            "type": "choropleth"
           }
          ],
          "contour": [
           {
            "colorbar": {
             "outlinewidth": 0,
             "ticks": ""
            },
            "colorscale": [
             [
              0,
              "#0d0887"
             ],
             [
              0.1111111111111111,
              "#46039f"
             ],
             [
              0.2222222222222222,
              "#7201a8"
             ],
             [
              0.3333333333333333,
              "#9c179e"
             ],
             [
              0.4444444444444444,
              "#bd3786"
             ],
             [
              0.5555555555555556,
              "#d8576b"
             ],
             [
              0.6666666666666666,
              "#ed7953"
             ],
             [
              0.7777777777777778,
              "#fb9f3a"
             ],
             [
              0.8888888888888888,
              "#fdca26"
             ],
             [
              1,
              "#f0f921"
             ]
            ],
            "type": "contour"
           }
          ],
          "contourcarpet": [
           {
            "colorbar": {
             "outlinewidth": 0,
             "ticks": ""
            },
            "type": "contourcarpet"
           }
          ],
          "heatmap": [
           {
            "colorbar": {
             "outlinewidth": 0,
             "ticks": ""
            },
            "colorscale": [
             [
              0,
              "#0d0887"
             ],
             [
              0.1111111111111111,
              "#46039f"
             ],
             [
              0.2222222222222222,
              "#7201a8"
             ],
             [
              0.3333333333333333,
              "#9c179e"
             ],
             [
              0.4444444444444444,
              "#bd3786"
             ],
             [
              0.5555555555555556,
              "#d8576b"
             ],
             [
              0.6666666666666666,
              "#ed7953"
             ],
             [
              0.7777777777777778,
              "#fb9f3a"
             ],
             [
              0.8888888888888888,
              "#fdca26"
             ],
             [
              1,
              "#f0f921"
             ]
            ],
            "type": "heatmap"
           }
          ],
          "heatmapgl": [
           {
            "colorbar": {
             "outlinewidth": 0,
             "ticks": ""
            },
            "colorscale": [
             [
              0,
              "#0d0887"
             ],
             [
              0.1111111111111111,
              "#46039f"
             ],
             [
              0.2222222222222222,
              "#7201a8"
             ],
             [
              0.3333333333333333,
              "#9c179e"
             ],
             [
              0.4444444444444444,
              "#bd3786"
             ],
             [
              0.5555555555555556,
              "#d8576b"
             ],
             [
              0.6666666666666666,
              "#ed7953"
             ],
             [
              0.7777777777777778,
              "#fb9f3a"
             ],
             [
              0.8888888888888888,
              "#fdca26"
             ],
             [
              1,
              "#f0f921"
             ]
            ],
            "type": "heatmapgl"
           }
          ],
          "histogram": [
           {
            "marker": {
             "pattern": {
              "fillmode": "overlay",
              "size": 10,
              "solidity": 0.2
             }
            },
            "type": "histogram"
           }
          ],
          "histogram2d": [
           {
            "colorbar": {
             "outlinewidth": 0,
             "ticks": ""
            },
            "colorscale": [
             [
              0,
              "#0d0887"
             ],
             [
              0.1111111111111111,
              "#46039f"
             ],
             [
              0.2222222222222222,
              "#7201a8"
             ],
             [
              0.3333333333333333,
              "#9c179e"
             ],
             [
              0.4444444444444444,
              "#bd3786"
             ],
             [
              0.5555555555555556,
              "#d8576b"
             ],
             [
              0.6666666666666666,
              "#ed7953"
             ],
             [
              0.7777777777777778,
              "#fb9f3a"
             ],
             [
              0.8888888888888888,
              "#fdca26"
             ],
             [
              1,
              "#f0f921"
             ]
            ],
            "type": "histogram2d"
           }
          ],
          "histogram2dcontour": [
           {
            "colorbar": {
             "outlinewidth": 0,
             "ticks": ""
            },
            "colorscale": [
             [
              0,
              "#0d0887"
             ],
             [
              0.1111111111111111,
              "#46039f"
             ],
             [
              0.2222222222222222,
              "#7201a8"
             ],
             [
              0.3333333333333333,
              "#9c179e"
             ],
             [
              0.4444444444444444,
              "#bd3786"
             ],
             [
              0.5555555555555556,
              "#d8576b"
             ],
             [
              0.6666666666666666,
              "#ed7953"
             ],
             [
              0.7777777777777778,
              "#fb9f3a"
             ],
             [
              0.8888888888888888,
              "#fdca26"
             ],
             [
              1,
              "#f0f921"
             ]
            ],
            "type": "histogram2dcontour"
           }
          ],
          "mesh3d": [
           {
            "colorbar": {
             "outlinewidth": 0,
             "ticks": ""
            },
            "type": "mesh3d"
           }
          ],
          "parcoords": [
           {
            "line": {
             "colorbar": {
              "outlinewidth": 0,
              "ticks": ""
             }
            },
            "type": "parcoords"
           }
          ],
          "pie": [
           {
            "automargin": true,
            "type": "pie"
           }
          ],
          "scatter": [
           {
            "fillpattern": {
             "fillmode": "overlay",
             "size": 10,
             "solidity": 0.2
            },
            "type": "scatter"
           }
          ],
          "scatter3d": [
           {
            "line": {
             "colorbar": {
              "outlinewidth": 0,
              "ticks": ""
             }
            },
            "marker": {
             "colorbar": {
              "outlinewidth": 0,
              "ticks": ""
             }
            },
            "type": "scatter3d"
           }
          ],
          "scattercarpet": [
           {
            "marker": {
             "colorbar": {
              "outlinewidth": 0,
              "ticks": ""
             }
            },
            "type": "scattercarpet"
           }
          ],
          "scattergeo": [
           {
            "marker": {
             "colorbar": {
              "outlinewidth": 0,
              "ticks": ""
             }
            },
            "type": "scattergeo"
           }
          ],
          "scattergl": [
           {
            "marker": {
             "colorbar": {
              "outlinewidth": 0,
              "ticks": ""
             }
            },
            "type": "scattergl"
           }
          ],
          "scattermapbox": [
           {
            "marker": {
             "colorbar": {
              "outlinewidth": 0,
              "ticks": ""
             }
            },
            "type": "scattermapbox"
           }
          ],
          "scatterpolar": [
           {
            "marker": {
             "colorbar": {
              "outlinewidth": 0,
              "ticks": ""
             }
            },
            "type": "scatterpolar"
           }
          ],
          "scatterpolargl": [
           {
            "marker": {
             "colorbar": {
              "outlinewidth": 0,
              "ticks": ""
             }
            },
            "type": "scatterpolargl"
           }
          ],
          "scatterternary": [
           {
            "marker": {
             "colorbar": {
              "outlinewidth": 0,
              "ticks": ""
             }
            },
            "type": "scatterternary"
           }
          ],
          "surface": [
           {
            "colorbar": {
             "outlinewidth": 0,
             "ticks": ""
            },
            "colorscale": [
             [
              0,
              "#0d0887"
             ],
             [
              0.1111111111111111,
              "#46039f"
             ],
             [
              0.2222222222222222,
              "#7201a8"
             ],
             [
              0.3333333333333333,
              "#9c179e"
             ],
             [
              0.4444444444444444,
              "#bd3786"
             ],
             [
              0.5555555555555556,
              "#d8576b"
             ],
             [
              0.6666666666666666,
              "#ed7953"
             ],
             [
              0.7777777777777778,
              "#fb9f3a"
             ],
             [
              0.8888888888888888,
              "#fdca26"
             ],
             [
              1,
              "#f0f921"
             ]
            ],
            "type": "surface"
           }
          ],
          "table": [
           {
            "cells": {
             "fill": {
              "color": "#EBF0F8"
             },
             "line": {
              "color": "white"
             }
            },
            "header": {
             "fill": {
              "color": "#C8D4E3"
             },
             "line": {
              "color": "white"
             }
            },
            "type": "table"
           }
          ]
         },
         "layout": {
          "annotationdefaults": {
           "arrowcolor": "#2a3f5f",
           "arrowhead": 0,
           "arrowwidth": 1
          },
          "autotypenumbers": "strict",
          "coloraxis": {
           "colorbar": {
            "outlinewidth": 0,
            "ticks": ""
           }
          },
          "colorscale": {
           "diverging": [
            [
             0,
             "#8e0152"
            ],
            [
             0.1,
             "#c51b7d"
            ],
            [
             0.2,
             "#de77ae"
            ],
            [
             0.3,
             "#f1b6da"
            ],
            [
             0.4,
             "#fde0ef"
            ],
            [
             0.5,
             "#f7f7f7"
            ],
            [
             0.6,
             "#e6f5d0"
            ],
            [
             0.7,
             "#b8e186"
            ],
            [
             0.8,
             "#7fbc41"
            ],
            [
             0.9,
             "#4d9221"
            ],
            [
             1,
             "#276419"
            ]
           ],
           "sequential": [
            [
             0,
             "#0d0887"
            ],
            [
             0.1111111111111111,
             "#46039f"
            ],
            [
             0.2222222222222222,
             "#7201a8"
            ],
            [
             0.3333333333333333,
             "#9c179e"
            ],
            [
             0.4444444444444444,
             "#bd3786"
            ],
            [
             0.5555555555555556,
             "#d8576b"
            ],
            [
             0.6666666666666666,
             "#ed7953"
            ],
            [
             0.7777777777777778,
             "#fb9f3a"
            ],
            [
             0.8888888888888888,
             "#fdca26"
            ],
            [
             1,
             "#f0f921"
            ]
           ],
           "sequentialminus": [
            [
             0,
             "#0d0887"
            ],
            [
             0.1111111111111111,
             "#46039f"
            ],
            [
             0.2222222222222222,
             "#7201a8"
            ],
            [
             0.3333333333333333,
             "#9c179e"
            ],
            [
             0.4444444444444444,
             "#bd3786"
            ],
            [
             0.5555555555555556,
             "#d8576b"
            ],
            [
             0.6666666666666666,
             "#ed7953"
            ],
            [
             0.7777777777777778,
             "#fb9f3a"
            ],
            [
             0.8888888888888888,
             "#fdca26"
            ],
            [
             1,
             "#f0f921"
            ]
           ]
          },
          "colorway": [
           "#636efa",
           "#EF553B",
           "#00cc96",
           "#ab63fa",
           "#FFA15A",
           "#19d3f3",
           "#FF6692",
           "#B6E880",
           "#FF97FF",
           "#FECB52"
          ],
          "font": {
           "color": "#2a3f5f"
          },
          "geo": {
           "bgcolor": "white",
           "lakecolor": "white",
           "landcolor": "#E5ECF6",
           "showlakes": true,
           "showland": true,
           "subunitcolor": "white"
          },
          "hoverlabel": {
           "align": "left"
          },
          "hovermode": "closest",
          "mapbox": {
           "style": "light"
          },
          "paper_bgcolor": "white",
          "plot_bgcolor": "#E5ECF6",
          "polar": {
           "angularaxis": {
            "gridcolor": "white",
            "linecolor": "white",
            "ticks": ""
           },
           "bgcolor": "#E5ECF6",
           "radialaxis": {
            "gridcolor": "white",
            "linecolor": "white",
            "ticks": ""
           }
          },
          "scene": {
           "xaxis": {
            "backgroundcolor": "#E5ECF6",
            "gridcolor": "white",
            "gridwidth": 2,
            "linecolor": "white",
            "showbackground": true,
            "ticks": "",
            "zerolinecolor": "white"
           },
           "yaxis": {
            "backgroundcolor": "#E5ECF6",
            "gridcolor": "white",
            "gridwidth": 2,
            "linecolor": "white",
            "showbackground": true,
            "ticks": "",
            "zerolinecolor": "white"
           },
           "zaxis": {
            "backgroundcolor": "#E5ECF6",
            "gridcolor": "white",
            "gridwidth": 2,
            "linecolor": "white",
            "showbackground": true,
            "ticks": "",
            "zerolinecolor": "white"
           }
          },
          "shapedefaults": {
           "line": {
            "color": "#2a3f5f"
           }
          },
          "ternary": {
           "aaxis": {
            "gridcolor": "white",
            "linecolor": "white",
            "ticks": ""
           },
           "baxis": {
            "gridcolor": "white",
            "linecolor": "white",
            "ticks": ""
           },
           "bgcolor": "#E5ECF6",
           "caxis": {
            "gridcolor": "white",
            "linecolor": "white",
            "ticks": ""
           }
          },
          "title": {
           "x": 0.05
          },
          "xaxis": {
           "automargin": true,
           "gridcolor": "white",
           "linecolor": "white",
           "ticks": "",
           "title": {
            "standoff": 15
           },
           "zerolinecolor": "white",
           "zerolinewidth": 2
          },
          "yaxis": {
           "automargin": true,
           "gridcolor": "white",
           "linecolor": "white",
           "ticks": "",
           "title": {
            "standoff": 15
           },
           "zerolinecolor": "white",
           "zerolinewidth": 2
          }
         }
        },
        "title": {
         "text": "Top 10 Most Common Words (Without Stopwords)"
        },
        "xaxis": {
         "anchor": "y",
         "domain": [
          0,
          1
         ],
         "title": {
          "text": "Word"
         }
        },
        "yaxis": {
         "anchor": "x",
         "domain": [
          0,
          1
         ],
         "title": {
          "text": "Frequency"
         }
        }
       }
      }
     },
     "metadata": {},
     "output_type": "display_data"
    },
    {
     "ename": "",
     "evalue": "",
     "output_type": "error",
     "traceback": [
      "\u001b[1;31mThe Kernel crashed while executing code in the current cell or a previous cell. \n",
      "\u001b[1;31mPlease review the code in the cell(s) to identify a possible cause of the failure. \n",
      "\u001b[1;31mClick <a href='https://aka.ms/vscodeJupyterKernelCrash'>here</a> for more info. \n",
      "\u001b[1;31mView Jupyter <a href='command:jupyter.viewOutput'>log</a> for further details."
     ]
    }
   ],
   "source": [
    "\n",
    "\n",
    "\n",
    "# ------------------------------------\n",
    "# Load spaCy model for NER\n",
    "# ------------------------------------\n",
    "nlp = spacy.load(\"en_core_web_sm\")\n",
    "\n",
    "# ------------------------------------\n",
    "# Load the cleaned train.csv file\n",
    "# ------------------------------------\n",
    "train_csv_path = \"datasets/cleaned_train.csv\"\n",
    "df = pd.read_csv(train_csv_path)\n",
    "\n",
    "# ------------------------------------\n",
    "# Define the paper ID\n",
    "# ------------------------------------\n",
    "paper_id = \"60246e83-563c-41be-afb7-19d536fc66fc\"\n",
    "\n",
    "# ------------------------------------\n",
    "# Display datasets mentioned in the paper\n",
    "# ------------------------------------\n",
    "def show_datasets_in_paper(paper_id, df):\n",
    "    paper_row = df[df[\"Id\"] == paper_id]\n",
    "    print(\"\\nDatasets mentioned in the paper:\")\n",
    "    print(paper_row[[\"dataset_title\", \"dataset_label\"]].drop_duplicates())\n",
    "\n",
    "show_datasets_in_paper(paper_id, df)\n",
    "\n",
    "# ------------------------------------\n",
    "# Load paper JSON safely\n",
    "# ------------------------------------\n",
    "def load_paper_json(paper_id, json_path=\"datasets\"):\n",
    "    paper_file = os.path.join(json_path, f\"{paper_id}.json\")\n",
    "    with open(paper_file, \"r\", encoding=\"utf-8\") as f:\n",
    "        paper = json.load(f)\n",
    "    return paper\n",
    "\n",
    "# ------------------------------------\n",
    "# Display first few paragraphs\n",
    "# ------------------------------------\n",
    "def display_paper_intro(paper_id, json_path=\"datasets\", num_paragraphs=5):\n",
    "    paper = load_paper_json(paper_id, json_path)\n",
    "    print(f\"\\n--- First {num_paragraphs} Paragraphs from Paper ID: {paper_id} ---\")\n",
    "    for p in paper[:num_paragraphs]:\n",
    "        print(p[\"text\"][:500])  # Limit paragraph length\n",
    "        print(\"=\" * 50)\n",
    "\n",
    "display_paper_intro(paper_id, json_path=\"datasets\")\n",
    "\n",
    "# ------------------------------------\n",
    "# Step 1: Word Frequency Analysis (without stopwords)\n",
    "# ------------------------------------\n",
    "def word_frequency_analysis(paper_id, json_path=\"datasets\"):\n",
    "    paper = load_paper_json(paper_id, json_path)\n",
    "    text = \" \".join([p[\"text\"] for p in paper])\n",
    "    \n",
    "    stopwords = set([\n",
    "        \"the\", \"and\", \"in\", \"to\", \"of\", \"for\", \"with\", \"on\", \"by\", \"a\", \"an\",\n",
    "        \"as\", \"at\", \"is\", \"was\", \"were\", \"it\", \"that\", \"this\", \"be\", \"been\",\n",
    "        \"being\", \"has\", \"have\", \"had\", \"we\", \"will\", \"or\", \"from\", \"are\", \"such\",\n",
    "        \"also\", \"may\", \"can\", \"using\", \"use\", \"used\", \"our\", \"these\", \"those\"\n",
    "    ])\n",
    "    \n",
    "    words = re.findall(r'\\b\\w+\\b', text.lower())\n",
    "    filtered_words = [word for word in words if word not in stopwords and len(word) > 2]\n",
    "    word_counts = Counter(filtered_words)\n",
    "    \n",
    "    print(\"\\nMost common words (without stopwords):\")\n",
    "    for word, count in word_counts.most_common(10):\n",
    "        print(f\"{word}: {count}\")\n",
    "    \n",
    "    return word_counts\n",
    "\n",
    "# ------------------------------------\n",
    "# Step 2: Named Entity Recognition (NER)\n",
    "# ------------------------------------\n",
    "def named_entity_recognition(paper_id, json_path=\"datasets\"):\n",
    "    paper = load_paper_json(paper_id, json_path)\n",
    "    text = \" \".join([p[\"text\"] for p in paper])\n",
    "    doc = nlp(text)\n",
    "    \n",
    "    entities = [ent.text.strip() for ent in doc.ents if len(ent.text.strip()) > 2]\n",
    "    entity_counts = Counter(entities)\n",
    "    \n",
    "    print(\"\\nMost common named entities:\")\n",
    "    for entity, count in entity_counts.most_common(10):\n",
    "        print(f\"{entity}: {count}\")\n",
    "    \n",
    "    return entity_counts\n",
    "\n",
    "# ------------------------------------\n",
    "# Step 3: Generate Word Cloud\n",
    "# ------------------------------------\n",
    "def generate_word_cloud(word_counts):\n",
    "    wordcloud = WordCloud(width=1000, height=500, background_color=\"white\").generate_from_frequencies(word_counts)\n",
    "    \n",
    "    plt.figure(figsize=(15, 7))\n",
    "    plt.imshow(wordcloud, interpolation=\"bilinear\")\n",
    "    plt.axis(\"off\")\n",
    "    plt.title(\"Word Cloud of Paper\", fontsize=20)\n",
    "    plt.show()\n",
    "\n",
    "# ------------------------------------\n",
    "# Step 4: Plot Word Frequency (Plotly)\n",
    "# ------------------------------------\n",
    "def plot_word_frequency(word_counts):\n",
    "    top_words = dict(word_counts.most_common(10))\n",
    "    data = pd.DataFrame({\"Word\": list(top_words.keys()), \"Count\": list(top_words.values())})\n",
    "    \n",
    "    fig = px.bar(\n",
    "        data,\n",
    "        x=\"Word\",\n",
    "        y=\"Count\",\n",
    "        title=\"Top 10 Most Common Words (Without Stopwords)\",\n",
    "        labels={\"Word\": \"Word\", \"Count\": \"Frequency\"},\n",
    "        color=\"Count\",\n",
    "        color_continuous_scale=\"Viridis\"\n",
    "    )\n",
    "    fig.show()\n",
    "\n",
    "# ------------------------------------\n",
    "# ===================\n",
    "# RUNNING THE ANALYSIS\n",
    "# ===================\n",
    "# ------------------------------------\n",
    "print(\"\\nWord Frequency Analysis (without stopwords):\")\n",
    "word_counts = word_frequency_analysis(paper_id, json_path=\"datasets\")\n",
    "\n",
    "print(\"\\nNamed Entity Recognition (NER):\")\n",
    "entity_counts = named_entity_recognition(paper_id, json_path=\"datasets\")\n",
    "\n",
    "# Word Cloud\n",
    "generate_word_cloud(word_counts)\n",
    "\n",
    "# Plotly interactive bar chart\n",
    "plot_word_frequency(word_counts)\n",
    "\n",
    "\n",
    "\n",
    "\n",
    "\n"
   ]
  },
  {
   "cell_type": "code",
   "execution_count": 50,
   "id": "07693004",
   "metadata": {},
   "outputs": [
    {
     "name": "stdout",
     "output_type": "stream",
     "text": [
      "\n",
      "Most common named entities:\n",
      "ADNI: 49\n",
      "LMCI: 31\n",
      "AD: 15\n",
      "MCI: 15\n",
      "Japanese: 14\n",
      "CSF: 14\n",
      "PET: 13\n",
      "Fig: 7\n",
      "Japan: 6\n",
      "FAQ: 6\n"
     ]
    },
    {
     "data": {
      "application/vnd.plotly.v1+json": {
       "config": {
        "plotlyServerURL": "https://plot.ly"
       },
       "data": [
        {
         "alignmentgroup": "True",
         "hovertemplate": "Entity=%{x}<br>Frequency=%{marker.color}<extra></extra>",
         "legendgroup": "",
         "marker": {
          "color": [
           49,
           31,
           15,
           15,
           14,
           14,
           13,
           7,
           6,
           6
          ],
          "coloraxis": "coloraxis",
          "pattern": {
           "shape": ""
          }
         },
         "name": "",
         "offsetgroup": "",
         "orientation": "v",
         "showlegend": false,
         "textposition": "auto",
         "type": "bar",
         "x": [
          "ADNI",
          "LMCI",
          "AD",
          "MCI",
          "Japanese",
          "CSF",
          "PET",
          "Fig",
          "Japan",
          "FAQ"
         ],
         "xaxis": "x",
         "y": [
          49,
          31,
          15,
          15,
          14,
          14,
          13,
          7,
          6,
          6
         ],
         "yaxis": "y"
        }
       ],
       "layout": {
        "barmode": "relative",
        "coloraxis": {
         "colorbar": {
          "title": {
           "text": "Frequency"
          }
         },
         "colorscale": [
          [
           0,
           "#440154"
          ],
          [
           0.1111111111111111,
           "#482878"
          ],
          [
           0.2222222222222222,
           "#3e4989"
          ],
          [
           0.3333333333333333,
           "#31688e"
          ],
          [
           0.4444444444444444,
           "#26828e"
          ],
          [
           0.5555555555555556,
           "#1f9e89"
          ],
          [
           0.6666666666666666,
           "#35b779"
          ],
          [
           0.7777777777777778,
           "#6ece58"
          ],
          [
           0.8888888888888888,
           "#b5de2b"
          ],
          [
           1,
           "#fde725"
          ]
         ]
        },
        "legend": {
         "tracegroupgap": 0
        },
        "template": {
         "data": {
          "bar": [
           {
            "error_x": {
             "color": "#2a3f5f"
            },
            "error_y": {
             "color": "#2a3f5f"
            },
            "marker": {
             "line": {
              "color": "#E5ECF6",
              "width": 0.5
             },
             "pattern": {
              "fillmode": "overlay",
              "size": 10,
              "solidity": 0.2
             }
            },
            "type": "bar"
           }
          ],
          "barpolar": [
           {
            "marker": {
             "line": {
              "color": "#E5ECF6",
              "width": 0.5
             },
             "pattern": {
              "fillmode": "overlay",
              "size": 10,
              "solidity": 0.2
             }
            },
            "type": "barpolar"
           }
          ],
          "carpet": [
           {
            "aaxis": {
             "endlinecolor": "#2a3f5f",
             "gridcolor": "white",
             "linecolor": "white",
             "minorgridcolor": "white",
             "startlinecolor": "#2a3f5f"
            },
            "baxis": {
             "endlinecolor": "#2a3f5f",
             "gridcolor": "white",
             "linecolor": "white",
             "minorgridcolor": "white",
             "startlinecolor": "#2a3f5f"
            },
            "type": "carpet"
           }
          ],
          "choropleth": [
           {
            "colorbar": {
             "outlinewidth": 0,
             "ticks": ""
            },
            "type": "choropleth"
           }
          ],
          "contour": [
           {
            "colorbar": {
             "outlinewidth": 0,
             "ticks": ""
            },
            "colorscale": [
             [
              0,
              "#0d0887"
             ],
             [
              0.1111111111111111,
              "#46039f"
             ],
             [
              0.2222222222222222,
              "#7201a8"
             ],
             [
              0.3333333333333333,
              "#9c179e"
             ],
             [
              0.4444444444444444,
              "#bd3786"
             ],
             [
              0.5555555555555556,
              "#d8576b"
             ],
             [
              0.6666666666666666,
              "#ed7953"
             ],
             [
              0.7777777777777778,
              "#fb9f3a"
             ],
             [
              0.8888888888888888,
              "#fdca26"
             ],
             [
              1,
              "#f0f921"
             ]
            ],
            "type": "contour"
           }
          ],
          "contourcarpet": [
           {
            "colorbar": {
             "outlinewidth": 0,
             "ticks": ""
            },
            "type": "contourcarpet"
           }
          ],
          "heatmap": [
           {
            "colorbar": {
             "outlinewidth": 0,
             "ticks": ""
            },
            "colorscale": [
             [
              0,
              "#0d0887"
             ],
             [
              0.1111111111111111,
              "#46039f"
             ],
             [
              0.2222222222222222,
              "#7201a8"
             ],
             [
              0.3333333333333333,
              "#9c179e"
             ],
             [
              0.4444444444444444,
              "#bd3786"
             ],
             [
              0.5555555555555556,
              "#d8576b"
             ],
             [
              0.6666666666666666,
              "#ed7953"
             ],
             [
              0.7777777777777778,
              "#fb9f3a"
             ],
             [
              0.8888888888888888,
              "#fdca26"
             ],
             [
              1,
              "#f0f921"
             ]
            ],
            "type": "heatmap"
           }
          ],
          "heatmapgl": [
           {
            "colorbar": {
             "outlinewidth": 0,
             "ticks": ""
            },
            "colorscale": [
             [
              0,
              "#0d0887"
             ],
             [
              0.1111111111111111,
              "#46039f"
             ],
             [
              0.2222222222222222,
              "#7201a8"
             ],
             [
              0.3333333333333333,
              "#9c179e"
             ],
             [
              0.4444444444444444,
              "#bd3786"
             ],
             [
              0.5555555555555556,
              "#d8576b"
             ],
             [
              0.6666666666666666,
              "#ed7953"
             ],
             [
              0.7777777777777778,
              "#fb9f3a"
             ],
             [
              0.8888888888888888,
              "#fdca26"
             ],
             [
              1,
              "#f0f921"
             ]
            ],
            "type": "heatmapgl"
           }
          ],
          "histogram": [
           {
            "marker": {
             "pattern": {
              "fillmode": "overlay",
              "size": 10,
              "solidity": 0.2
             }
            },
            "type": "histogram"
           }
          ],
          "histogram2d": [
           {
            "colorbar": {
             "outlinewidth": 0,
             "ticks": ""
            },
            "colorscale": [
             [
              0,
              "#0d0887"
             ],
             [
              0.1111111111111111,
              "#46039f"
             ],
             [
              0.2222222222222222,
              "#7201a8"
             ],
             [
              0.3333333333333333,
              "#9c179e"
             ],
             [
              0.4444444444444444,
              "#bd3786"
             ],
             [
              0.5555555555555556,
              "#d8576b"
             ],
             [
              0.6666666666666666,
              "#ed7953"
             ],
             [
              0.7777777777777778,
              "#fb9f3a"
             ],
             [
              0.8888888888888888,
              "#fdca26"
             ],
             [
              1,
              "#f0f921"
             ]
            ],
            "type": "histogram2d"
           }
          ],
          "histogram2dcontour": [
           {
            "colorbar": {
             "outlinewidth": 0,
             "ticks": ""
            },
            "colorscale": [
             [
              0,
              "#0d0887"
             ],
             [
              0.1111111111111111,
              "#46039f"
             ],
             [
              0.2222222222222222,
              "#7201a8"
             ],
             [
              0.3333333333333333,
              "#9c179e"
             ],
             [
              0.4444444444444444,
              "#bd3786"
             ],
             [
              0.5555555555555556,
              "#d8576b"
             ],
             [
              0.6666666666666666,
              "#ed7953"
             ],
             [
              0.7777777777777778,
              "#fb9f3a"
             ],
             [
              0.8888888888888888,
              "#fdca26"
             ],
             [
              1,
              "#f0f921"
             ]
            ],
            "type": "histogram2dcontour"
           }
          ],
          "mesh3d": [
           {
            "colorbar": {
             "outlinewidth": 0,
             "ticks": ""
            },
            "type": "mesh3d"
           }
          ],
          "parcoords": [
           {
            "line": {
             "colorbar": {
              "outlinewidth": 0,
              "ticks": ""
             }
            },
            "type": "parcoords"
           }
          ],
          "pie": [
           {
            "automargin": true,
            "type": "pie"
           }
          ],
          "scatter": [
           {
            "fillpattern": {
             "fillmode": "overlay",
             "size": 10,
             "solidity": 0.2
            },
            "type": "scatter"
           }
          ],
          "scatter3d": [
           {
            "line": {
             "colorbar": {
              "outlinewidth": 0,
              "ticks": ""
             }
            },
            "marker": {
             "colorbar": {
              "outlinewidth": 0,
              "ticks": ""
             }
            },
            "type": "scatter3d"
           }
          ],
          "scattercarpet": [
           {
            "marker": {
             "colorbar": {
              "outlinewidth": 0,
              "ticks": ""
             }
            },
            "type": "scattercarpet"
           }
          ],
          "scattergeo": [
           {
            "marker": {
             "colorbar": {
              "outlinewidth": 0,
              "ticks": ""
             }
            },
            "type": "scattergeo"
           }
          ],
          "scattergl": [
           {
            "marker": {
             "colorbar": {
              "outlinewidth": 0,
              "ticks": ""
             }
            },
            "type": "scattergl"
           }
          ],
          "scattermapbox": [
           {
            "marker": {
             "colorbar": {
              "outlinewidth": 0,
              "ticks": ""
             }
            },
            "type": "scattermapbox"
           }
          ],
          "scatterpolar": [
           {
            "marker": {
             "colorbar": {
              "outlinewidth": 0,
              "ticks": ""
             }
            },
            "type": "scatterpolar"
           }
          ],
          "scatterpolargl": [
           {
            "marker": {
             "colorbar": {
              "outlinewidth": 0,
              "ticks": ""
             }
            },
            "type": "scatterpolargl"
           }
          ],
          "scatterternary": [
           {
            "marker": {
             "colorbar": {
              "outlinewidth": 0,
              "ticks": ""
             }
            },
            "type": "scatterternary"
           }
          ],
          "surface": [
           {
            "colorbar": {
             "outlinewidth": 0,
             "ticks": ""
            },
            "colorscale": [
             [
              0,
              "#0d0887"
             ],
             [
              0.1111111111111111,
              "#46039f"
             ],
             [
              0.2222222222222222,
              "#7201a8"
             ],
             [
              0.3333333333333333,
              "#9c179e"
             ],
             [
              0.4444444444444444,
              "#bd3786"
             ],
             [
              0.5555555555555556,
              "#d8576b"
             ],
             [
              0.6666666666666666,
              "#ed7953"
             ],
             [
              0.7777777777777778,
              "#fb9f3a"
             ],
             [
              0.8888888888888888,
              "#fdca26"
             ],
             [
              1,
              "#f0f921"
             ]
            ],
            "type": "surface"
           }
          ],
          "table": [
           {
            "cells": {
             "fill": {
              "color": "#EBF0F8"
             },
             "line": {
              "color": "white"
             }
            },
            "header": {
             "fill": {
              "color": "#C8D4E3"
             },
             "line": {
              "color": "white"
             }
            },
            "type": "table"
           }
          ]
         },
         "layout": {
          "annotationdefaults": {
           "arrowcolor": "#2a3f5f",
           "arrowhead": 0,
           "arrowwidth": 1
          },
          "autotypenumbers": "strict",
          "coloraxis": {
           "colorbar": {
            "outlinewidth": 0,
            "ticks": ""
           }
          },
          "colorscale": {
           "diverging": [
            [
             0,
             "#8e0152"
            ],
            [
             0.1,
             "#c51b7d"
            ],
            [
             0.2,
             "#de77ae"
            ],
            [
             0.3,
             "#f1b6da"
            ],
            [
             0.4,
             "#fde0ef"
            ],
            [
             0.5,
             "#f7f7f7"
            ],
            [
             0.6,
             "#e6f5d0"
            ],
            [
             0.7,
             "#b8e186"
            ],
            [
             0.8,
             "#7fbc41"
            ],
            [
             0.9,
             "#4d9221"
            ],
            [
             1,
             "#276419"
            ]
           ],
           "sequential": [
            [
             0,
             "#0d0887"
            ],
            [
             0.1111111111111111,
             "#46039f"
            ],
            [
             0.2222222222222222,
             "#7201a8"
            ],
            [
             0.3333333333333333,
             "#9c179e"
            ],
            [
             0.4444444444444444,
             "#bd3786"
            ],
            [
             0.5555555555555556,
             "#d8576b"
            ],
            [
             0.6666666666666666,
             "#ed7953"
            ],
            [
             0.7777777777777778,
             "#fb9f3a"
            ],
            [
             0.8888888888888888,
             "#fdca26"
            ],
            [
             1,
             "#f0f921"
            ]
           ],
           "sequentialminus": [
            [
             0,
             "#0d0887"
            ],
            [
             0.1111111111111111,
             "#46039f"
            ],
            [
             0.2222222222222222,
             "#7201a8"
            ],
            [
             0.3333333333333333,
             "#9c179e"
            ],
            [
             0.4444444444444444,
             "#bd3786"
            ],
            [
             0.5555555555555556,
             "#d8576b"
            ],
            [
             0.6666666666666666,
             "#ed7953"
            ],
            [
             0.7777777777777778,
             "#fb9f3a"
            ],
            [
             0.8888888888888888,
             "#fdca26"
            ],
            [
             1,
             "#f0f921"
            ]
           ]
          },
          "colorway": [
           "#636efa",
           "#EF553B",
           "#00cc96",
           "#ab63fa",
           "#FFA15A",
           "#19d3f3",
           "#FF6692",
           "#B6E880",
           "#FF97FF",
           "#FECB52"
          ],
          "font": {
           "color": "#2a3f5f"
          },
          "geo": {
           "bgcolor": "white",
           "lakecolor": "white",
           "landcolor": "#E5ECF6",
           "showlakes": true,
           "showland": true,
           "subunitcolor": "white"
          },
          "hoverlabel": {
           "align": "left"
          },
          "hovermode": "closest",
          "mapbox": {
           "style": "light"
          },
          "paper_bgcolor": "white",
          "plot_bgcolor": "#E5ECF6",
          "polar": {
           "angularaxis": {
            "gridcolor": "white",
            "linecolor": "white",
            "ticks": ""
           },
           "bgcolor": "#E5ECF6",
           "radialaxis": {
            "gridcolor": "white",
            "linecolor": "white",
            "ticks": ""
           }
          },
          "scene": {
           "xaxis": {
            "backgroundcolor": "#E5ECF6",
            "gridcolor": "white",
            "gridwidth": 2,
            "linecolor": "white",
            "showbackground": true,
            "ticks": "",
            "zerolinecolor": "white"
           },
           "yaxis": {
            "backgroundcolor": "#E5ECF6",
            "gridcolor": "white",
            "gridwidth": 2,
            "linecolor": "white",
            "showbackground": true,
            "ticks": "",
            "zerolinecolor": "white"
           },
           "zaxis": {
            "backgroundcolor": "#E5ECF6",
            "gridcolor": "white",
            "gridwidth": 2,
            "linecolor": "white",
            "showbackground": true,
            "ticks": "",
            "zerolinecolor": "white"
           }
          },
          "shapedefaults": {
           "line": {
            "color": "#2a3f5f"
           }
          },
          "ternary": {
           "aaxis": {
            "gridcolor": "white",
            "linecolor": "white",
            "ticks": ""
           },
           "baxis": {
            "gridcolor": "white",
            "linecolor": "white",
            "ticks": ""
           },
           "bgcolor": "#E5ECF6",
           "caxis": {
            "gridcolor": "white",
            "linecolor": "white",
            "ticks": ""
           }
          },
          "title": {
           "x": 0.05
          },
          "xaxis": {
           "automargin": true,
           "gridcolor": "white",
           "linecolor": "white",
           "ticks": "",
           "title": {
            "standoff": 15
           },
           "zerolinecolor": "white",
           "zerolinewidth": 2
          },
          "yaxis": {
           "automargin": true,
           "gridcolor": "white",
           "linecolor": "white",
           "ticks": "",
           "title": {
            "standoff": 15
           },
           "zerolinecolor": "white",
           "zerolinewidth": 2
          }
         }
        },
        "title": {
         "text": "Top 10 Named Entities"
        },
        "xaxis": {
         "anchor": "y",
         "domain": [
          0,
          1
         ],
         "title": {
          "text": "Entity"
         }
        },
        "yaxis": {
         "anchor": "x",
         "domain": [
          0,
          1
         ],
         "title": {
          "text": "Frequency"
         }
        }
       }
      }
     },
     "metadata": {},
     "output_type": "display_data"
    }
   ],
   "source": [
    "def plot_named_entities(entity_counts, top_n=10):\n",
    "    # Prepare the data for Plotly bar chart\n",
    "    entities = [entity for entity, _ in entity_counts.most_common(top_n)]\n",
    "    counts = [count for _, count in entity_counts.most_common(top_n)]\n",
    "    \n",
    "    # Create a DataFrame for better handling with Plotly\n",
    "    data = pd.DataFrame({\"Entity\": entities, \"Count\": counts})\n",
    "    \n",
    "    # Create a bar chart using Plotly\n",
    "    fig = px.bar(data, x=\"Entity\", y=\"Count\", title=\"Top 10 Named Entities\",\n",
    "                 labels={\"Entity\": \"Entity\", \"Count\": \"Frequency\"}, color=\"Count\", color_continuous_scale=\"Viridis\")\n",
    "    \n",
    "    # Show the plot\n",
    "    fig.show()\n",
    "\n",
    "# Run the NER function\n",
    "entity_counts = named_entity_recognition(paper_id, json_path=\"datasets\")\n",
    "\n",
    "# Plot the named entities\n",
    "plot_named_entities(entity_counts)\n"
   ]
  }
 ],
 "metadata": {
  "kernelspec": {
   "display_name": ".venv",
   "language": "python",
   "name": "python3"
  },
  "language_info": {
   "codemirror_mode": {
    "name": "ipython",
    "version": 3
   },
   "file_extension": ".py",
   "mimetype": "text/x-python",
   "name": "python",
   "nbconvert_exporter": "python",
   "pygments_lexer": "ipython3",
   "version": "3.11.2"
  }
 },
 "nbformat": 4,
 "nbformat_minor": 5
}
